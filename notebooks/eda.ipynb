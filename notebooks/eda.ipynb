{
 "cells": [
  {
   "cell_type": "markdown",
   "id": "c503f6e5",
   "metadata": {},
   "source": [
    "# EDA notebook for getting the basic understanding of what the data contains"
   ]
  },
  {
   "cell_type": "markdown",
   "id": "fa9d4da8",
   "metadata": {},
   "source": [
    "## The files and the columns they contain with descriptions [Click here to vist Kaggle's page](https://www.kaggle.com/datasets/larysa21/retail-data-american-football-gear-sales) :\n"
   ]
  },
  {
   "cell_type": "markdown",
   "id": "29025579",
   "metadata": {},
   "source": [
    "### 1. AF_online_sales_dataset.csv\n",
    "1. tmstmp - Timestamp of the transaction\n",
    "2. product_category - Broad category of the product\n",
    "3. product_subcategory - Subcategory for finer product classification\n",
    "4. product - Name of the sold prouct\n",
    "5. brand_name - Brand of product\n",
    "6. product_price - Price per unit of the product\n",
    "7. quantity_sold - Number of units sold\n",
    "8. total_amount - Total revenue generated from the transaction\n",
    "9. total_costs - Total cost incurred for the transaction\n",
    "10. payment_type - Method of payment used\n",
    "11. shipping_method - Shipping service used for delivery\n",
    "12. coupon_discount - Discount applied through a coupon, if any\n",
    "13. customer_firstname - First name of the customer\n",
    "14. customer_lastname - Last name of the customer\n",
    "15. customer_gender - Gender of the customer\n",
    "16. customer_age - Age of the customer\n",
    "17. customer_shirtsize - Shirt size of the customer\n",
    "18. customer_email - Email of the customer\n",
    "19. customer_phone - Phone number of the customer\n",
    "20. customer_address - Customer's address (primary)\n",
    "21. address_details - Additional address details\n",
    "22. customer_city - City of the customer\n",
    "23. customer_state - state of the customer\n",
    "24. store_website - Website where the transaction occured\n",
    "25. employee_firstname - First name of the employee handling the transaction\n",
    "26. employee_lastname - Last name of the employee handling the transaction\n",
    "27. employee_email - Email of the employee\n",
    "28. employee_skill - Skillset of the employee\n",
    "29. employee_education - Educational background of the employee"
   ]
  },
  {
   "cell_type": "markdown",
   "id": "82cf0582",
   "metadata": {},
   "source": [
    "### 2. AF_offline_sales_dataset.csv\n",
    "1. product_name - Name of sold product\n",
    "2. brand - Brand of product\n",
    "3. category - Broad category of the product\n",
    "4. subcategory - Subcategory for finer product classification\n",
    "5. supplier - Supplier or vendor name\n",
    "6. date - Timestamp of the transaction\n",
    "7. price - Price per unit of the product\n",
    "8. quantity_sold - Number of units sold\n",
    "9. amount_sold - Total revenue generated from the transaction\n",
    "10. cost_amount - Total cost incurred for the transaction\n",
    "11. payment_method - Method of payment used\n",
    "12. customer_firstname - First name of the customer\n",
    "13. customer_lastname - Last name of the customer\n",
    "14. customer_gender - Gender of the customer\n",
    "15. customer_email - Email of the customer\n",
    "16. customer_phone - Phone number of the customer\n",
    "17. store_type - Type of the store\n",
    "18. store_street - Street address of the store\n",
    "19. store_city - City where store is located\n",
    "20. store_state - State where the store is located"
   ]
  },
  {
   "cell_type": "markdown",
   "id": "6c5481bd",
   "metadata": {},
   "source": [
    "### Conclusions:\n",
    "1. The files have different number of columns\n",
    "2. Strangely enough, the file with online transactions has employees' data, the offline data doesn't, ok\n",
    "3. There is a number of columns containing similar data but called differently (tmstmp & date for example)\n",
    "4. Although the data in both files is not the same structure, it is quite close on to another one, as both datasets represent sales (online sales and in-store sales)\n",
    "5. After transforming the data, some values in newly created columns will have to be filled with some some logic (later)"
   ]
  },
  {
   "cell_type": "markdown",
   "id": "5dafb626",
   "metadata": {},
   "source": [
    "## Plan of the EDA:\n",
    "1. Load each file (online and offline sales)\n",
    "2. Understand the structure of both datasets\n",
    "3. Unite datasets\n",
    "4. Add a column to each dataset for online/offline sales (sales_channel)\n",
    "5. Check unique values for both parts and make conclusions on what should be done in order to prepare the df to normalization"
   ]
  },
  {
   "cell_type": "markdown",
   "id": "c9b9d625",
   "metadata": {},
   "source": [
    "### 1. Load the files and get the first impression of them"
   ]
  },
  {
   "cell_type": "code",
   "execution_count": 1,
   "id": "80074a9e",
   "metadata": {},
   "outputs": [],
   "source": [
    "# all required imports\n",
    "import pandas as pd\n",
    "import os\n",
    "\n",
    "# show all columns\n",
    "pd.set_option('display.max_columns', None)"
   ]
  },
  {
   "cell_type": "code",
   "execution_count": 2,
   "id": "6e84a7a3",
   "metadata": {},
   "outputs": [],
   "source": [
    "# Define the base path\n",
    "base_path = os.path.join('..', 'raw_data')"
   ]
  },
  {
   "cell_type": "code",
   "execution_count": 3,
   "id": "c8c32206",
   "metadata": {},
   "outputs": [],
   "source": [
    "# Read the files\n",
    "df_online = pd.read_csv(os.path.join(base_path, 'AF_online_sales_dataset.csv'))\n",
    "df_offline = pd.read_csv(os.path.join(base_path, 'AF_offline_sales_dataset.csv'))"
   ]
  },
  {
   "cell_type": "code",
   "execution_count": 4,
   "id": "cb09550e",
   "metadata": {},
   "outputs": [
    {
     "data": {
      "text/html": [
       "<div>\n",
       "<style scoped>\n",
       "    .dataframe tbody tr th:only-of-type {\n",
       "        vertical-align: middle;\n",
       "    }\n",
       "\n",
       "    .dataframe tbody tr th {\n",
       "        vertical-align: top;\n",
       "    }\n",
       "\n",
       "    .dataframe thead th {\n",
       "        text-align: right;\n",
       "    }\n",
       "</style>\n",
       "<table border=\"1\" class=\"dataframe\">\n",
       "  <thead>\n",
       "    <tr style=\"text-align: right;\">\n",
       "      <th></th>\n",
       "      <th>tmstmp</th>\n",
       "      <th>product_category</th>\n",
       "      <th>product_subcategory</th>\n",
       "      <th>product</th>\n",
       "      <th>brand_name</th>\n",
       "      <th>product_price</th>\n",
       "      <th>quantity_sold</th>\n",
       "      <th>total_amount</th>\n",
       "      <th>total_costs</th>\n",
       "      <th>payment_type</th>\n",
       "      <th>shipping_method</th>\n",
       "      <th>coupon_discount</th>\n",
       "      <th>customer_firstname</th>\n",
       "      <th>customer_lastname</th>\n",
       "      <th>customer_gender</th>\n",
       "      <th>customer_age</th>\n",
       "      <th>customer_shirtsize</th>\n",
       "      <th>customer_email</th>\n",
       "      <th>customer_phone</th>\n",
       "      <th>customer_address</th>\n",
       "      <th>address_details</th>\n",
       "      <th>customer_city</th>\n",
       "      <th>customer_state</th>\n",
       "      <th>store_website</th>\n",
       "      <th>employee_firstname</th>\n",
       "      <th>employee_lastname</th>\n",
       "      <th>employee_email</th>\n",
       "      <th>employee_skill</th>\n",
       "      <th>employee_education</th>\n",
       "    </tr>\n",
       "  </thead>\n",
       "  <tbody>\n",
       "    <tr>\n",
       "      <th>0</th>\n",
       "      <td>2023-02-02 14:41:12</td>\n",
       "      <td>Protection</td>\n",
       "      <td>Padding</td>\n",
       "      <td>All Star KP2500 Small Adult Knee Pad (Pairs)</td>\n",
       "      <td>All Star</td>\n",
       "      <td>18.69</td>\n",
       "      <td>5</td>\n",
       "      <td>93.45</td>\n",
       "      <td>23.85</td>\n",
       "      <td>credit card</td>\n",
       "      <td>DHL</td>\n",
       "      <td>0</td>\n",
       "      <td>Maribelle</td>\n",
       "      <td>Crickmer</td>\n",
       "      <td>Female</td>\n",
       "      <td>34</td>\n",
       "      <td>2XL</td>\n",
       "      <td>mcrickmer0@cbsnews.com</td>\n",
       "      <td>7045187192</td>\n",
       "      <td>810 Elgar Terrace</td>\n",
       "      <td>PO Box 62435</td>\n",
       "      <td>Charlotte</td>\n",
       "      <td>NC</td>\n",
       "      <td>helmetheroshop.com</td>\n",
       "      <td>Orelee</td>\n",
       "      <td>Curmi</td>\n",
       "      <td>povill5o@admin.ch</td>\n",
       "      <td>Rubber</td>\n",
       "      <td>Kardan University</td>\n",
       "    </tr>\n",
       "    <tr>\n",
       "      <th>1</th>\n",
       "      <td>2024-01-09 00:58:17</td>\n",
       "      <td>Footwear</td>\n",
       "      <td>Socks</td>\n",
       "      <td>Multi-Sport Sock</td>\n",
       "      <td>Champro</td>\n",
       "      <td>10.63</td>\n",
       "      <td>1</td>\n",
       "      <td>7.97</td>\n",
       "      <td>3.85</td>\n",
       "      <td>PayPal</td>\n",
       "      <td>USPS</td>\n",
       "      <td>25</td>\n",
       "      <td>Katerina</td>\n",
       "      <td>Baird</td>\n",
       "      <td>Female</td>\n",
       "      <td>28</td>\n",
       "      <td>XS</td>\n",
       "      <td>kbaird1@vkontakte.ru</td>\n",
       "      <td>7343341391</td>\n",
       "      <td>022 Cardinal Point</td>\n",
       "      <td>PO Box 88829</td>\n",
       "      <td>Detroit</td>\n",
       "      <td>MI</td>\n",
       "      <td>pigskinprovisions.com</td>\n",
       "      <td>Zeb</td>\n",
       "      <td>Absalom</td>\n",
       "      <td>crolingson3b@berkeley.edu</td>\n",
       "      <td>Live Events</td>\n",
       "      <td>National Taras Shevchenko University of Kiev</td>\n",
       "    </tr>\n",
       "  </tbody>\n",
       "</table>\n",
       "</div>"
      ],
      "text/plain": [
       "                tmstmp product_category product_subcategory  \\\n",
       "0  2023-02-02 14:41:12       Protection             Padding   \n",
       "1  2024-01-09 00:58:17         Footwear               Socks   \n",
       "\n",
       "                                        product brand_name  product_price  \\\n",
       "0  All Star KP2500 Small Adult Knee Pad (Pairs)   All Star          18.69   \n",
       "1                              Multi-Sport Sock    Champro          10.63   \n",
       "\n",
       "   quantity_sold  total_amount  total_costs payment_type shipping_method  \\\n",
       "0              5         93.45        23.85  credit card             DHL   \n",
       "1              1          7.97         3.85       PayPal            USPS   \n",
       "\n",
       "   coupon_discount customer_firstname customer_lastname customer_gender  \\\n",
       "0                0          Maribelle          Crickmer          Female   \n",
       "1               25           Katerina             Baird          Female   \n",
       "\n",
       "   customer_age customer_shirtsize          customer_email  customer_phone  \\\n",
       "0            34                2XL  mcrickmer0@cbsnews.com      7045187192   \n",
       "1            28                 XS    kbaird1@vkontakte.ru      7343341391   \n",
       "\n",
       "     customer_address address_details customer_city customer_state  \\\n",
       "0   810 Elgar Terrace    PO Box 62435     Charlotte             NC   \n",
       "1  022 Cardinal Point    PO Box 88829       Detroit             MI   \n",
       "\n",
       "           store_website employee_firstname employee_lastname  \\\n",
       "0     helmetheroshop.com             Orelee             Curmi   \n",
       "1  pigskinprovisions.com                Zeb           Absalom   \n",
       "\n",
       "              employee_email employee_skill  \\\n",
       "0          povill5o@admin.ch         Rubber   \n",
       "1  crolingson3b@berkeley.edu    Live Events   \n",
       "\n",
       "                             employee_education  \n",
       "0                             Kardan University  \n",
       "1  National Taras Shevchenko University of Kiev  "
      ]
     },
     "execution_count": 4,
     "metadata": {},
     "output_type": "execute_result"
    }
   ],
   "source": [
    "df_online.head(2)"
   ]
  },
  {
   "cell_type": "code",
   "execution_count": 5,
   "id": "37989b78",
   "metadata": {},
   "outputs": [
    {
     "data": {
      "text/html": [
       "<div>\n",
       "<style scoped>\n",
       "    .dataframe tbody tr th:only-of-type {\n",
       "        vertical-align: middle;\n",
       "    }\n",
       "\n",
       "    .dataframe tbody tr th {\n",
       "        vertical-align: top;\n",
       "    }\n",
       "\n",
       "    .dataframe thead th {\n",
       "        text-align: right;\n",
       "    }\n",
       "</style>\n",
       "<table border=\"1\" class=\"dataframe\">\n",
       "  <thead>\n",
       "    <tr style=\"text-align: right;\">\n",
       "      <th></th>\n",
       "      <th>product_name</th>\n",
       "      <th>brand</th>\n",
       "      <th>category</th>\n",
       "      <th>subcategory</th>\n",
       "      <th>supplier</th>\n",
       "      <th>date</th>\n",
       "      <th>price</th>\n",
       "      <th>quantity_sold</th>\n",
       "      <th>amount_sold</th>\n",
       "      <th>cost_amount</th>\n",
       "      <th>payment_method</th>\n",
       "      <th>customer_firstname</th>\n",
       "      <th>customer_lastname</th>\n",
       "      <th>customer_gender</th>\n",
       "      <th>customer_email</th>\n",
       "      <th>customer_phone</th>\n",
       "      <th>store_type</th>\n",
       "      <th>store_street</th>\n",
       "      <th>store_city</th>\n",
       "      <th>store_state</th>\n",
       "    </tr>\n",
       "  </thead>\n",
       "  <tbody>\n",
       "    <tr>\n",
       "      <th>0</th>\n",
       "      <td>Riddell Victor-I Inflation Air Bladder (R91229...</td>\n",
       "      <td>Riddell</td>\n",
       "      <td>Helmets</td>\n",
       "      <td>Helmet Components</td>\n",
       "      <td>Balistreri Inc.</td>\n",
       "      <td>2023-07-31 16:54:01</td>\n",
       "      <td>16.11</td>\n",
       "      <td>4</td>\n",
       "      <td>64.44</td>\n",
       "      <td>29.76</td>\n",
       "      <td>cash</td>\n",
       "      <td>Farleigh</td>\n",
       "      <td>Geach</td>\n",
       "      <td>Male</td>\n",
       "      <td>fgeach55@aol.com</td>\n",
       "      <td>296-345-9732</td>\n",
       "      <td>specialized</td>\n",
       "      <td>20 Fairfield Plaza</td>\n",
       "      <td>Portland</td>\n",
       "      <td>OR</td>\n",
       "    </tr>\n",
       "    <tr>\n",
       "      <th>1</th>\n",
       "      <td>McDavid Thigh Support</td>\n",
       "      <td>McDavid</td>\n",
       "      <td>Protective Gear</td>\n",
       "      <td>Thigh</td>\n",
       "      <td>NFL Properties LLC</td>\n",
       "      <td>2023-03-16 20:06:34</td>\n",
       "      <td>20.00</td>\n",
       "      <td>6</td>\n",
       "      <td>120.00</td>\n",
       "      <td>81.36</td>\n",
       "      <td>debit card</td>\n",
       "      <td>Stesha</td>\n",
       "      <td>Peiser</td>\n",
       "      <td>Female</td>\n",
       "      <td>speiserl@squarespace.com</td>\n",
       "      <td>562-102-4205</td>\n",
       "      <td>superstore</td>\n",
       "      <td>654 Pine View Place</td>\n",
       "      <td>New Orleans</td>\n",
       "      <td>LA</td>\n",
       "    </tr>\n",
       "  </tbody>\n",
       "</table>\n",
       "</div>"
      ],
      "text/plain": [
       "                                        product_name    brand  \\\n",
       "0  Riddell Victor-I Inflation Air Bladder (R91229...  Riddell   \n",
       "1                              McDavid Thigh Support  McDavid   \n",
       "\n",
       "          category        subcategory            supplier  \\\n",
       "0          Helmets  Helmet Components     Balistreri Inc.   \n",
       "1  Protective Gear              Thigh  NFL Properties LLC   \n",
       "\n",
       "                  date  price  quantity_sold  amount_sold  cost_amount  \\\n",
       "0  2023-07-31 16:54:01  16.11              4        64.44        29.76   \n",
       "1  2023-03-16 20:06:34  20.00              6       120.00        81.36   \n",
       "\n",
       "  payment_method customer_firstname customer_lastname customer_gender  \\\n",
       "0           cash           Farleigh             Geach            Male   \n",
       "1     debit card             Stesha            Peiser          Female   \n",
       "\n",
       "             customer_email customer_phone   store_type         store_street  \\\n",
       "0          fgeach55@aol.com   296-345-9732  specialized   20 Fairfield Plaza   \n",
       "1  speiserl@squarespace.com   562-102-4205   superstore  654 Pine View Place   \n",
       "\n",
       "    store_city store_state  \n",
       "0     Portland          OR  \n",
       "1  New Orleans          LA  "
      ]
     },
     "execution_count": 5,
     "metadata": {},
     "output_type": "execute_result"
    }
   ],
   "source": [
    "df_offline.head(2)"
   ]
  },
  {
   "cell_type": "markdown",
   "id": "4cc8af46",
   "metadata": {},
   "source": [
    "### 2. Understand the structure of both datasets"
   ]
  },
  {
   "cell_type": "code",
   "execution_count": 6,
   "id": "136d2fd5",
   "metadata": {},
   "outputs": [
    {
     "name": "stdout",
     "output_type": "stream",
     "text": [
      "Index(['tmstmp', 'product_category', 'product_subcategory', 'product',\n",
      "       'brand_name', 'product_price', 'quantity_sold', 'total_amount',\n",
      "       'total_costs', 'payment_type', 'shipping_method', 'coupon_discount',\n",
      "       'customer_firstname', 'customer_lastname', 'customer_gender',\n",
      "       'customer_age', 'customer_shirtsize', 'customer_email',\n",
      "       'customer_phone', 'customer_address', 'address_details',\n",
      "       'customer_city', 'customer_state', 'store_website',\n",
      "       'employee_firstname', 'employee_lastname', 'employee_email',\n",
      "       'employee_skill', 'employee_education'],\n",
      "      dtype='object')\n",
      "Index(['product_name', 'brand', 'category', 'subcategory', 'supplier', 'date',\n",
      "       'price', 'quantity_sold', 'amount_sold', 'cost_amount',\n",
      "       'payment_method', 'customer_firstname', 'customer_lastname',\n",
      "       'customer_gender', 'customer_email', 'customer_phone', 'store_type',\n",
      "       'store_street', 'store_city', 'store_state'],\n",
      "      dtype='object')\n"
     ]
    }
   ],
   "source": [
    "# columns in both dfs:\n",
    "print(df_online.columns)\n",
    "print(df_offline.columns)"
   ]
  },
  {
   "cell_type": "markdown",
   "id": "dd08163c",
   "metadata": {},
   "source": [
    "### 3. Unite the datasets\n",
    "### 4. Add a column to each dataset for online/offline sales (sales_channel)"
   ]
  },
  {
   "cell_type": "code",
   "execution_count": 7,
   "id": "032aee72",
   "metadata": {},
   "outputs": [],
   "source": [
    "# Standardize column names (renaming where necessary for the columns having similar business sense)\n",
    "df_offline.rename(columns={\n",
    "    'product_name': 'product',\n",
    "    'brand': 'brand_name',\n",
    "    'category': 'product_category',\n",
    "    'subcategory': 'product_subcategory',\n",
    "    'date': 'tmstmp',\n",
    "    'price': 'product_price',\n",
    "    'amount_sold': 'total_amount',\n",
    "    'cost_amount': 'total_costs',\n",
    "    'payment_method': 'payment_type'\n",
    "}, inplace=True)\n",
    "\n",
    "# Add missing columns and fill with None/NaN where necessary\n",
    "missing_columns = set(df_online.columns) - set(df_offline.columns)\n",
    "for col in missing_columns:\n",
    "    df_offline[col] = None  # Fill missing columns in offline with None\n",
    "\n",
    "missing_columns = set(df_offline.columns) - set(df_online.columns)\n",
    "for col in missing_columns:\n",
    "    df_online[col] = None  # Fill missing columns in online with None\n",
    "\n",
    "# Add a sales channel column\n",
    "df_online['sales_channel'] = 'Online'\n",
    "df_offline['sales_channel'] = 'Offline'\n",
    "\n",
    "# Concatenate both DataFrames\n",
    "df_combined = pd.concat([df_online, df_offline], ignore_index=True)"
   ]
  },
  {
   "cell_type": "code",
   "execution_count": 8,
   "id": "4c2d389f",
   "metadata": {},
   "outputs": [
    {
     "name": "stdout",
     "output_type": "stream",
     "text": [
      "<class 'pandas.core.frame.DataFrame'>\n",
      "RangeIndex: 1034000 entries, 0 to 1033999\n",
      "Data columns (total 35 columns):\n",
      " #   Column               Non-Null Count    Dtype  \n",
      "---  ------               --------------    -----  \n",
      " 0   tmstmp               1034000 non-null  object \n",
      " 1   product_category     1034000 non-null  object \n",
      " 2   product_subcategory  1034000 non-null  object \n",
      " 3   product              1034000 non-null  object \n",
      " 4   brand_name           1034000 non-null  object \n",
      " 5   product_price        1034000 non-null  float64\n",
      " 6   quantity_sold        1034000 non-null  int64  \n",
      " 7   total_amount         1034000 non-null  float64\n",
      " 8   total_costs          1034000 non-null  float64\n",
      " 9   payment_type         1034000 non-null  object \n",
      " 10  shipping_method      533000 non-null   object \n",
      " 11  coupon_discount      533000 non-null   object \n",
      " 12  customer_firstname   1034000 non-null  object \n",
      " 13  customer_lastname    1034000 non-null  object \n",
      " 14  customer_gender      1034000 non-null  object \n",
      " 15  customer_age         533000 non-null   object \n",
      " 16  customer_shirtsize   533000 non-null   object \n",
      " 17  customer_email       1034000 non-null  object \n",
      " 18  customer_phone       1034000 non-null  object \n",
      " 19  customer_address     533000 non-null   object \n",
      " 20  address_details      533000 non-null   object \n",
      " 21  customer_city        533000 non-null   object \n",
      " 22  customer_state       533000 non-null   object \n",
      " 23  store_website        533000 non-null   object \n",
      " 24  employee_firstname   533000 non-null   object \n",
      " 25  employee_lastname    533000 non-null   object \n",
      " 26  employee_email       533000 non-null   object \n",
      " 27  employee_skill       532237 non-null   object \n",
      " 28  employee_education   532237 non-null   object \n",
      " 29  store_street         501000 non-null   object \n",
      " 30  store_state          501000 non-null   object \n",
      " 31  store_type           501000 non-null   object \n",
      " 32  store_city           501000 non-null   object \n",
      " 33  supplier             501000 non-null   object \n",
      " 34  sales_channel        1034000 non-null  object \n",
      "dtypes: float64(3), int64(1), object(31)\n",
      "memory usage: 276.1+ MB\n"
     ]
    }
   ],
   "source": [
    "df_combined.info()"
   ]
  },
  {
   "cell_type": "markdown",
   "id": "f8a14bd5",
   "metadata": {},
   "source": [
    "#### Review what we've got"
   ]
  },
  {
   "cell_type": "markdown",
   "id": "2616bf79",
   "metadata": {},
   "source": [
    "#### Observations\n",
    "1. So, we got a united dataset with 1.034.000 records: 533.000 of which came from online sales dataset and 501.000 records from offline dataset\n",
    "2. We have a number of columns which have values from one of the 2 datasets only:\n",
    "\n",
    "    - Columns, containing data from Online sales dataset:\n",
    "        - shipping_method      \n",
    "        - coupon_discount      \n",
    "        - customer_age         \n",
    "        - customer_shirtsize   \n",
    "        - customer_address     \n",
    "        - address_details      \n",
    "        - customer_city        \n",
    "        - customer_state       \n",
    "        - store_website        \n",
    "        - employee_firstname   \n",
    "        - employee_lastname    \n",
    "        - employee_email       \n",
    "        - employee_skill     \n",
    "        - employee_education \n",
    "    \n",
    "    - Columns, containing data from Offline sales dataset:\n",
    "        - store_street         \n",
    "        - supplier             \n",
    "        - store_city           \n",
    "        - store_state          \n",
    "        - store_type  \n",
    "3. Basically, it is up to us how we handle this issue. It is possible to apply some logic in order to fill the columns"
   ]
  },
  {
   "cell_type": "markdown",
   "id": "d9e48cbe",
   "metadata": {},
   "source": [
    "### 5. Check unique values for both parts and make conclusions on what should be done in order to prepare the df to normalization"
   ]
  },
  {
   "cell_type": "markdown",
   "id": "9ea69fb5",
   "metadata": {},
   "source": [
    "#### 1. tmstmp"
   ]
  },
  {
   "cell_type": "code",
   "execution_count": 9,
   "id": "ec83c477",
   "metadata": {},
   "outputs": [
    {
     "data": {
      "text/html": [
       "<div>\n",
       "<style scoped>\n",
       "    .dataframe tbody tr th:only-of-type {\n",
       "        vertical-align: middle;\n",
       "    }\n",
       "\n",
       "    .dataframe tbody tr th {\n",
       "        vertical-align: top;\n",
       "    }\n",
       "\n",
       "    .dataframe thead th {\n",
       "        text-align: right;\n",
       "    }\n",
       "</style>\n",
       "<table border=\"1\" class=\"dataframe\">\n",
       "  <thead>\n",
       "    <tr style=\"text-align: right;\">\n",
       "      <th></th>\n",
       "      <th>min</th>\n",
       "      <th>max</th>\n",
       "    </tr>\n",
       "    <tr>\n",
       "      <th>sales_channel</th>\n",
       "      <th></th>\n",
       "      <th></th>\n",
       "    </tr>\n",
       "  </thead>\n",
       "  <tbody>\n",
       "    <tr>\n",
       "      <th>Offline</th>\n",
       "      <td>2022-01-01 00:00:24</td>\n",
       "      <td>2024-01-16 23:57:11</td>\n",
       "    </tr>\n",
       "    <tr>\n",
       "      <th>Online</th>\n",
       "      <td>2022-01-01 00:08:53</td>\n",
       "      <td>2024-01-16 23:59:38</td>\n",
       "    </tr>\n",
       "  </tbody>\n",
       "</table>\n",
       "</div>"
      ],
      "text/plain": [
       "                              min                 max\n",
       "sales_channel                                        \n",
       "Offline       2022-01-01 00:00:24 2024-01-16 23:57:11\n",
       "Online        2022-01-01 00:08:53 2024-01-16 23:59:38"
      ]
     },
     "execution_count": 9,
     "metadata": {},
     "output_type": "execute_result"
    }
   ],
   "source": [
    "# Convert tmstmp column to datetime\n",
    "df_combined['tmstmp'] = pd.to_datetime(df_combined['tmstmp'], errors='coerce')\n",
    "\n",
    "# Group by sales_channel and get min/max dates\n",
    "date_summary = df_combined.groupby('sales_channel')['tmstmp'].agg(['min', 'max'])\n",
    "\n",
    "date_summary"
   ]
  },
  {
   "cell_type": "markdown",
   "id": "0a097579",
   "metadata": {},
   "source": [
    "#### 2. product_category     "
   ]
  },
  {
   "cell_type": "code",
   "execution_count": 10,
   "id": "83a04d09",
   "metadata": {},
   "outputs": [
    {
     "data": {
      "text/html": [
       "<div>\n",
       "<style scoped>\n",
       "    .dataframe tbody tr th:only-of-type {\n",
       "        vertical-align: middle;\n",
       "    }\n",
       "\n",
       "    .dataframe tbody tr th {\n",
       "        vertical-align: top;\n",
       "    }\n",
       "\n",
       "    .dataframe thead th {\n",
       "        text-align: right;\n",
       "    }\n",
       "</style>\n",
       "<table border=\"1\" class=\"dataframe\">\n",
       "  <thead>\n",
       "    <tr style=\"text-align: right;\">\n",
       "      <th></th>\n",
       "      <th></th>\n",
       "      <th>count</th>\n",
       "    </tr>\n",
       "    <tr>\n",
       "      <th>sales_channel</th>\n",
       "      <th>product_category</th>\n",
       "      <th></th>\n",
       "    </tr>\n",
       "  </thead>\n",
       "  <tbody>\n",
       "    <tr>\n",
       "      <th rowspan=\"8\" valign=\"top\">Offline</th>\n",
       "      <th>Accessories</th>\n",
       "      <td>21870</td>\n",
       "    </tr>\n",
       "    <tr>\n",
       "      <th>Clothing &amp; Apparel</th>\n",
       "      <td>34763</td>\n",
       "    </tr>\n",
       "    <tr>\n",
       "      <th>Footwear</th>\n",
       "      <td>37513</td>\n",
       "    </tr>\n",
       "    <tr>\n",
       "      <th>Gloves</th>\n",
       "      <td>46986</td>\n",
       "    </tr>\n",
       "    <tr>\n",
       "      <th>Helmets</th>\n",
       "      <td>195460</td>\n",
       "    </tr>\n",
       "    <tr>\n",
       "      <th>Protection</th>\n",
       "      <td>81325</td>\n",
       "    </tr>\n",
       "    <tr>\n",
       "      <th>Protective Gear</th>\n",
       "      <td>13187</td>\n",
       "    </tr>\n",
       "    <tr>\n",
       "      <th>Shoulder Pads</th>\n",
       "      <td>69896</td>\n",
       "    </tr>\n",
       "    <tr>\n",
       "      <th rowspan=\"8\" valign=\"top\">Online</th>\n",
       "      <th>Accessories</th>\n",
       "      <td>22855</td>\n",
       "    </tr>\n",
       "    <tr>\n",
       "      <th>Clothing &amp; Apparel</th>\n",
       "      <td>37073</td>\n",
       "    </tr>\n",
       "    <tr>\n",
       "      <th>Footwear</th>\n",
       "      <td>39789</td>\n",
       "    </tr>\n",
       "    <tr>\n",
       "      <th>Gloves</th>\n",
       "      <td>50031</td>\n",
       "    </tr>\n",
       "    <tr>\n",
       "      <th>Helmets</th>\n",
       "      <td>208520</td>\n",
       "    </tr>\n",
       "    <tr>\n",
       "      <th>Protection</th>\n",
       "      <td>86432</td>\n",
       "    </tr>\n",
       "    <tr>\n",
       "      <th>Protective Gear</th>\n",
       "      <td>14090</td>\n",
       "    </tr>\n",
       "    <tr>\n",
       "      <th>Shoulder Pads</th>\n",
       "      <td>74210</td>\n",
       "    </tr>\n",
       "  </tbody>\n",
       "</table>\n",
       "</div>"
      ],
      "text/plain": [
       "                                   count\n",
       "sales_channel product_category          \n",
       "Offline       Accessories          21870\n",
       "              Clothing & Apparel   34763\n",
       "              Footwear             37513\n",
       "              Gloves               46986\n",
       "              Helmets             195460\n",
       "              Protection           81325\n",
       "              Protective Gear      13187\n",
       "              Shoulder Pads        69896\n",
       "Online        Accessories          22855\n",
       "              Clothing & Apparel   37073\n",
       "              Footwear             39789\n",
       "              Gloves               50031\n",
       "              Helmets             208520\n",
       "              Protection           86432\n",
       "              Protective Gear      14090\n",
       "              Shoulder Pads        74210"
      ]
     },
     "execution_count": 10,
     "metadata": {},
     "output_type": "execute_result"
    }
   ],
   "source": [
    "# Group by sales_channel and get product_categories\n",
    "product_category_summary = df_combined.groupby(['sales_channel', 'product_category'])['product_category'].agg(['count'])\n",
    "\n",
    "product_category_summary"
   ]
  },
  {
   "cell_type": "code",
   "execution_count": 11,
   "id": "adcf6409",
   "metadata": {},
   "outputs": [],
   "source": [
    "# We are completely ok with product_category"
   ]
  },
  {
   "cell_type": "markdown",
   "id": "bf65e2ff",
   "metadata": {},
   "source": [
    "#### 3. product_subcategory  "
   ]
  },
  {
   "cell_type": "code",
   "execution_count": 12,
   "id": "8d304e40",
   "metadata": {},
   "outputs": [
    {
     "data": {
      "text/html": [
       "<div>\n",
       "<style scoped>\n",
       "    .dataframe tbody tr th:only-of-type {\n",
       "        vertical-align: middle;\n",
       "    }\n",
       "\n",
       "    .dataframe tbody tr th {\n",
       "        vertical-align: top;\n",
       "    }\n",
       "\n",
       "    .dataframe thead th {\n",
       "        text-align: right;\n",
       "    }\n",
       "</style>\n",
       "<table border=\"1\" class=\"dataframe\">\n",
       "  <thead>\n",
       "    <tr style=\"text-align: right;\">\n",
       "      <th></th>\n",
       "      <th></th>\n",
       "      <th>count</th>\n",
       "    </tr>\n",
       "    <tr>\n",
       "      <th>sales_channel</th>\n",
       "      <th>product_subcategory</th>\n",
       "      <th></th>\n",
       "    </tr>\n",
       "  </thead>\n",
       "  <tbody>\n",
       "    <tr>\n",
       "      <th rowspan=\"28\" valign=\"top\">Offline</th>\n",
       "      <th>Accessories</th>\n",
       "      <td>6816</td>\n",
       "    </tr>\n",
       "    <tr>\n",
       "      <th>Adult</th>\n",
       "      <td>98407</td>\n",
       "    </tr>\n",
       "    <tr>\n",
       "      <th>Arm</th>\n",
       "      <td>7903</td>\n",
       "    </tr>\n",
       "    <tr>\n",
       "      <th>Chin Straps</th>\n",
       "      <td>13881</td>\n",
       "    </tr>\n",
       "    <tr>\n",
       "      <th>Compression</th>\n",
       "      <td>4334</td>\n",
       "    </tr>\n",
       "    <tr>\n",
       "      <th>Detachable Cleats</th>\n",
       "      <td>5293</td>\n",
       "    </tr>\n",
       "    <tr>\n",
       "      <th>Elbow</th>\n",
       "      <td>1724</td>\n",
       "    </tr>\n",
       "    <tr>\n",
       "      <th>Eye Black</th>\n",
       "      <td>4463</td>\n",
       "    </tr>\n",
       "    <tr>\n",
       "      <th>Face Masks</th>\n",
       "      <td>46208</td>\n",
       "    </tr>\n",
       "    <tr>\n",
       "      <th>Forearm</th>\n",
       "      <td>2646</td>\n",
       "    </tr>\n",
       "    <tr>\n",
       "      <th>Girdle Pads</th>\n",
       "      <td>18169</td>\n",
       "    </tr>\n",
       "    <tr>\n",
       "      <th>Helmet Components</th>\n",
       "      <td>78045</td>\n",
       "    </tr>\n",
       "    <tr>\n",
       "      <th>Helmet Maintenance</th>\n",
       "      <td>33978</td>\n",
       "    </tr>\n",
       "    <tr>\n",
       "      <th>Junior</th>\n",
       "      <td>2698</td>\n",
       "    </tr>\n",
       "    <tr>\n",
       "      <th>Molded Cleats</th>\n",
       "      <td>16543</td>\n",
       "    </tr>\n",
       "    <tr>\n",
       "      <th>Mouthguards</th>\n",
       "      <td>40238</td>\n",
       "    </tr>\n",
       "    <tr>\n",
       "      <th>Padded Shirts</th>\n",
       "      <td>7047</td>\n",
       "    </tr>\n",
       "    <tr>\n",
       "      <th>Padding</th>\n",
       "      <td>15871</td>\n",
       "    </tr>\n",
       "    <tr>\n",
       "      <th>Pants</th>\n",
       "      <td>16475</td>\n",
       "    </tr>\n",
       "    <tr>\n",
       "      <th>Scull Caps</th>\n",
       "      <td>3480</td>\n",
       "    </tr>\n",
       "    <tr>\n",
       "      <th>Shirts</th>\n",
       "      <td>13954</td>\n",
       "    </tr>\n",
       "    <tr>\n",
       "      <th>Shoulder Pad Components</th>\n",
       "      <td>13988</td>\n",
       "    </tr>\n",
       "    <tr>\n",
       "      <th>Shoulder Pads</th>\n",
       "      <td>5194</td>\n",
       "    </tr>\n",
       "    <tr>\n",
       "      <th>Socks</th>\n",
       "      <td>8861</td>\n",
       "    </tr>\n",
       "    <tr>\n",
       "      <th>Thigh</th>\n",
       "      <td>914</td>\n",
       "    </tr>\n",
       "    <tr>\n",
       "      <th>Women</th>\n",
       "      <td>3626</td>\n",
       "    </tr>\n",
       "    <tr>\n",
       "      <th>Wristbands</th>\n",
       "      <td>12213</td>\n",
       "    </tr>\n",
       "    <tr>\n",
       "      <th>Youth</th>\n",
       "      <td>18031</td>\n",
       "    </tr>\n",
       "    <tr>\n",
       "      <th rowspan=\"28\" valign=\"top\">Online</th>\n",
       "      <th>Accessories</th>\n",
       "      <td>7445</td>\n",
       "    </tr>\n",
       "    <tr>\n",
       "      <th>Adult</th>\n",
       "      <td>104889</td>\n",
       "    </tr>\n",
       "    <tr>\n",
       "      <th>Arm</th>\n",
       "      <td>8470</td>\n",
       "    </tr>\n",
       "    <tr>\n",
       "      <th>Chin Straps</th>\n",
       "      <td>14698</td>\n",
       "    </tr>\n",
       "    <tr>\n",
       "      <th>Compression</th>\n",
       "      <td>4793</td>\n",
       "    </tr>\n",
       "    <tr>\n",
       "      <th>Detachable Cleats</th>\n",
       "      <td>5475</td>\n",
       "    </tr>\n",
       "    <tr>\n",
       "      <th>Elbow</th>\n",
       "      <td>1880</td>\n",
       "    </tr>\n",
       "    <tr>\n",
       "      <th>Eye Black</th>\n",
       "      <td>4465</td>\n",
       "    </tr>\n",
       "    <tr>\n",
       "      <th>Face Masks</th>\n",
       "      <td>49106</td>\n",
       "    </tr>\n",
       "    <tr>\n",
       "      <th>Forearm</th>\n",
       "      <td>2763</td>\n",
       "    </tr>\n",
       "    <tr>\n",
       "      <th>Girdle Pads</th>\n",
       "      <td>19492</td>\n",
       "    </tr>\n",
       "    <tr>\n",
       "      <th>Helmet Components</th>\n",
       "      <td>83027</td>\n",
       "    </tr>\n",
       "    <tr>\n",
       "      <th>Helmet Maintenance</th>\n",
       "      <td>36415</td>\n",
       "    </tr>\n",
       "    <tr>\n",
       "      <th>Junior</th>\n",
       "      <td>2777</td>\n",
       "    </tr>\n",
       "    <tr>\n",
       "      <th>Molded Cleats</th>\n",
       "      <td>17758</td>\n",
       "    </tr>\n",
       "    <tr>\n",
       "      <th>Mouthguards</th>\n",
       "      <td>42758</td>\n",
       "    </tr>\n",
       "    <tr>\n",
       "      <th>Padded Shirts</th>\n",
       "      <td>7442</td>\n",
       "    </tr>\n",
       "    <tr>\n",
       "      <th>Padding</th>\n",
       "      <td>16740</td>\n",
       "    </tr>\n",
       "    <tr>\n",
       "      <th>Pants</th>\n",
       "      <td>17502</td>\n",
       "    </tr>\n",
       "    <tr>\n",
       "      <th>Scull Caps</th>\n",
       "      <td>3705</td>\n",
       "    </tr>\n",
       "    <tr>\n",
       "      <th>Shirts</th>\n",
       "      <td>14778</td>\n",
       "    </tr>\n",
       "    <tr>\n",
       "      <th>Shoulder Pad Components</th>\n",
       "      <td>14821</td>\n",
       "    </tr>\n",
       "    <tr>\n",
       "      <th>Shoulder Pads</th>\n",
       "      <td>5438</td>\n",
       "    </tr>\n",
       "    <tr>\n",
       "      <th>Socks</th>\n",
       "      <td>9111</td>\n",
       "    </tr>\n",
       "    <tr>\n",
       "      <th>Thigh</th>\n",
       "      <td>977</td>\n",
       "    </tr>\n",
       "    <tr>\n",
       "      <th>Women</th>\n",
       "      <td>3754</td>\n",
       "    </tr>\n",
       "    <tr>\n",
       "      <th>Wristbands</th>\n",
       "      <td>12952</td>\n",
       "    </tr>\n",
       "    <tr>\n",
       "      <th>Youth</th>\n",
       "      <td>19569</td>\n",
       "    </tr>\n",
       "  </tbody>\n",
       "</table>\n",
       "</div>"
      ],
      "text/plain": [
       "                                        count\n",
       "sales_channel product_subcategory            \n",
       "Offline       Accessories                6816\n",
       "              Adult                     98407\n",
       "              Arm                        7903\n",
       "              Chin Straps               13881\n",
       "              Compression                4334\n",
       "              Detachable Cleats          5293\n",
       "              Elbow                      1724\n",
       "              Eye Black                  4463\n",
       "              Face Masks                46208\n",
       "              Forearm                    2646\n",
       "              Girdle Pads               18169\n",
       "              Helmet Components         78045\n",
       "              Helmet Maintenance        33978\n",
       "              Junior                     2698\n",
       "              Molded Cleats             16543\n",
       "              Mouthguards               40238\n",
       "              Padded Shirts              7047\n",
       "              Padding                   15871\n",
       "              Pants                     16475\n",
       "              Scull Caps                 3480\n",
       "              Shirts                    13954\n",
       "              Shoulder Pad Components   13988\n",
       "              Shoulder Pads              5194\n",
       "              Socks                      8861\n",
       "              Thigh                       914\n",
       "              Women                      3626\n",
       "              Wristbands                12213\n",
       "              Youth                     18031\n",
       "Online        Accessories                7445\n",
       "              Adult                    104889\n",
       "              Arm                        8470\n",
       "              Chin Straps               14698\n",
       "              Compression                4793\n",
       "              Detachable Cleats          5475\n",
       "              Elbow                      1880\n",
       "              Eye Black                  4465\n",
       "              Face Masks                49106\n",
       "              Forearm                    2763\n",
       "              Girdle Pads               19492\n",
       "              Helmet Components         83027\n",
       "              Helmet Maintenance        36415\n",
       "              Junior                     2777\n",
       "              Molded Cleats             17758\n",
       "              Mouthguards               42758\n",
       "              Padded Shirts              7442\n",
       "              Padding                   16740\n",
       "              Pants                     17502\n",
       "              Scull Caps                 3705\n",
       "              Shirts                    14778\n",
       "              Shoulder Pad Components   14821\n",
       "              Shoulder Pads              5438\n",
       "              Socks                      9111\n",
       "              Thigh                       977\n",
       "              Women                      3754\n",
       "              Wristbands                12952\n",
       "              Youth                     19569"
      ]
     },
     "execution_count": 12,
     "metadata": {},
     "output_type": "execute_result"
    }
   ],
   "source": [
    "# Group by sales_channel and get product_subcategories\n",
    "product_subcategory_summary = df_combined.groupby(['sales_channel', 'product_subcategory'])['product_category'].agg(['count'])\n",
    "\n",
    "product_subcategory_summary"
   ]
  },
  {
   "cell_type": "code",
   "execution_count": 13,
   "id": "841567d6",
   "metadata": {},
   "outputs": [
    {
     "name": "stdout",
     "output_type": "stream",
     "text": [
      "Subcategories only in Online sales: set()\n",
      "Subcategories only in Offline sales: set()\n"
     ]
    }
   ],
   "source": [
    "# Get unique product subcategories per sales channel\n",
    "subcategories_per_channel = df_combined.groupby('sales_channel')['product_subcategory'].unique()\n",
    "\n",
    "# Convert to sets for easy comparison\n",
    "online_subcategories = set(subcategories_per_channel.get('Online', []))\n",
    "offline_subcategories = set(subcategories_per_channel.get('Offline', []))\n",
    "\n",
    "# Find differences\n",
    "only_in_online = online_subcategories - offline_subcategories\n",
    "only_in_offline = offline_subcategories - online_subcategories\n",
    "\n",
    "# Display results\n",
    "print(\"Subcategories only in Online sales:\", only_in_online)\n",
    "print(\"Subcategories only in Offline sales:\", only_in_offline)"
   ]
  },
  {
   "cell_type": "code",
   "execution_count": 14,
   "id": "74f70543",
   "metadata": {},
   "outputs": [],
   "source": [
    "# We are completely ok with subcategories column"
   ]
  },
  {
   "cell_type": "markdown",
   "id": "71710275",
   "metadata": {},
   "source": [
    "#### 4. product              "
   ]
  },
  {
   "cell_type": "code",
   "execution_count": 15,
   "id": "0fe28bf3",
   "metadata": {},
   "outputs": [
    {
     "name": "stdout",
     "output_type": "stream",
     "text": [
      "Products only in Online sales: set()\n",
      "Products only in Offline sales: set()\n"
     ]
    }
   ],
   "source": [
    "# Get unique products per sales channel\n",
    "products_per_channel = df_combined.groupby('sales_channel')['product'].unique()\n",
    "\n",
    "# Convert to sets for easy comparison\n",
    "online_products = set(products_per_channel.get('Online', []))\n",
    "offline_products = set(products_per_channel.get('Offline', []))\n",
    "\n",
    "# Find differences\n",
    "only_in_online_products = online_products - offline_products\n",
    "only_in_offline_products = offline_products - online_products\n",
    "\n",
    "# Display results\n",
    "print(\"Products only in Online sales:\", only_in_online_products)\n",
    "print(\"Products only in Offline sales:\", only_in_offline_products)"
   ]
  },
  {
   "cell_type": "code",
   "execution_count": 16,
   "id": "f02773b0",
   "metadata": {},
   "outputs": [],
   "source": [
    "# We are ok with products column"
   ]
  },
  {
   "cell_type": "markdown",
   "id": "788e2fb2",
   "metadata": {},
   "source": [
    "#### 5. brand_name           "
   ]
  },
  {
   "cell_type": "code",
   "execution_count": 17,
   "id": "8512b74c",
   "metadata": {},
   "outputs": [
    {
     "data": {
      "text/html": [
       "<div>\n",
       "<style scoped>\n",
       "    .dataframe tbody tr th:only-of-type {\n",
       "        vertical-align: middle;\n",
       "    }\n",
       "\n",
       "    .dataframe tbody tr th {\n",
       "        vertical-align: top;\n",
       "    }\n",
       "\n",
       "    .dataframe thead th {\n",
       "        text-align: right;\n",
       "    }\n",
       "</style>\n",
       "<table border=\"1\" class=\"dataframe\">\n",
       "  <thead>\n",
       "    <tr style=\"text-align: right;\">\n",
       "      <th></th>\n",
       "      <th></th>\n",
       "      <th>count</th>\n",
       "    </tr>\n",
       "    <tr>\n",
       "      <th>sales_channel</th>\n",
       "      <th>brand_name</th>\n",
       "      <th></th>\n",
       "    </tr>\n",
       "  </thead>\n",
       "  <tbody>\n",
       "    <tr>\n",
       "      <th rowspan=\"5\" valign=\"top\">Offline</th>\n",
       "      <th>Adams</th>\n",
       "      <td>22797</td>\n",
       "    </tr>\n",
       "    <tr>\n",
       "      <th>Adidas</th>\n",
       "      <td>12341</td>\n",
       "    </tr>\n",
       "    <tr>\n",
       "      <th>All Star</th>\n",
       "      <td>11339</td>\n",
       "    </tr>\n",
       "    <tr>\n",
       "      <th>Champro</th>\n",
       "      <td>3434</td>\n",
       "    </tr>\n",
       "    <tr>\n",
       "      <th>Crep Protect</th>\n",
       "      <td>6816</td>\n",
       "    </tr>\n",
       "    <tr>\n",
       "      <th>...</th>\n",
       "      <th>...</th>\n",
       "      <td>...</td>\n",
       "    </tr>\n",
       "    <tr>\n",
       "      <th rowspan=\"5\" valign=\"top\">Online</th>\n",
       "      <th>Under Armour</th>\n",
       "      <td>23791</td>\n",
       "    </tr>\n",
       "    <tr>\n",
       "      <th>Vettex</th>\n",
       "      <td>1866</td>\n",
       "    </tr>\n",
       "    <tr>\n",
       "      <th>Warrior Shield</th>\n",
       "      <td>1858</td>\n",
       "    </tr>\n",
       "    <tr>\n",
       "      <th>Wilson</th>\n",
       "      <td>928</td>\n",
       "    </tr>\n",
       "    <tr>\n",
       "      <th>Xenith</th>\n",
       "      <td>12063</td>\n",
       "    </tr>\n",
       "  </tbody>\n",
       "</table>\n",
       "<p>62 rows × 1 columns</p>\n",
       "</div>"
      ],
      "text/plain": [
       "                              count\n",
       "sales_channel brand_name           \n",
       "Offline       Adams           22797\n",
       "              Adidas          12341\n",
       "              All Star        11339\n",
       "              Champro          3434\n",
       "              Crep Protect     6816\n",
       "...                             ...\n",
       "Online        Under Armour    23791\n",
       "              Vettex           1866\n",
       "              Warrior Shield   1858\n",
       "              Wilson            928\n",
       "              Xenith          12063\n",
       "\n",
       "[62 rows x 1 columns]"
      ]
     },
     "execution_count": 17,
     "metadata": {},
     "output_type": "execute_result"
    }
   ],
   "source": [
    "# Group by sales_channel and get product_subcategories\n",
    "brand_summary = df_combined.groupby(['sales_channel', 'brand_name'])['brand_name'].agg(['count'])\n",
    "\n",
    "brand_summary"
   ]
  },
  {
   "cell_type": "code",
   "execution_count": 18,
   "id": "60b70338",
   "metadata": {},
   "outputs": [
    {
     "name": "stdout",
     "output_type": "stream",
     "text": [
      "Brands only in Online sales: set()\n",
      "Brands only in Offline sales: set()\n"
     ]
    }
   ],
   "source": [
    "# Get unique brands per sales channel\n",
    "brands_per_channel = df_combined.groupby('sales_channel')['brand_name'].unique()\n",
    "\n",
    "# Convert to sets for easy comparison\n",
    "online_products = set(brands_per_channel.get('Online', []))\n",
    "offline_products = set(brands_per_channel.get('Offline', []))\n",
    "\n",
    "# Find differences\n",
    "only_in_online_brands = online_products - offline_products\n",
    "only_in_offline_brands = offline_products - online_products\n",
    "\n",
    "# Display results\n",
    "print(\"Brands only in Online sales:\", only_in_online_brands)\n",
    "print(\"Brands only in Offline sales:\", only_in_offline_brands)"
   ]
  },
  {
   "cell_type": "code",
   "execution_count": 19,
   "id": "ac13626e",
   "metadata": {},
   "outputs": [],
   "source": [
    "# We are ok with column brand_name. Neither column has values the the other one doesn't have"
   ]
  },
  {
   "cell_type": "markdown",
   "id": "04b3ac4e",
   "metadata": {},
   "source": [
    "#### 6. product_price        "
   ]
  },
  {
   "cell_type": "code",
   "execution_count": 20,
   "id": "c8e14faa",
   "metadata": {},
   "outputs": [
    {
     "data": {
      "text/html": [
       "<div>\n",
       "<style scoped>\n",
       "    .dataframe tbody tr th:only-of-type {\n",
       "        vertical-align: middle;\n",
       "    }\n",
       "\n",
       "    .dataframe tbody tr th {\n",
       "        vertical-align: top;\n",
       "    }\n",
       "\n",
       "    .dataframe thead th {\n",
       "        text-align: right;\n",
       "    }\n",
       "</style>\n",
       "<table border=\"1\" class=\"dataframe\">\n",
       "  <thead>\n",
       "    <tr style=\"text-align: right;\">\n",
       "      <th></th>\n",
       "      <th>min</th>\n",
       "      <th>max</th>\n",
       "      <th>mean</th>\n",
       "      <th>median</th>\n",
       "    </tr>\n",
       "    <tr>\n",
       "      <th>sales_channel</th>\n",
       "      <th></th>\n",
       "      <th></th>\n",
       "      <th></th>\n",
       "      <th></th>\n",
       "    </tr>\n",
       "  </thead>\n",
       "  <tbody>\n",
       "    <tr>\n",
       "      <th>Offline</th>\n",
       "      <td>1.99</td>\n",
       "      <td>800.96</td>\n",
       "      <td>76.995706</td>\n",
       "      <td>42.04</td>\n",
       "    </tr>\n",
       "    <tr>\n",
       "      <th>Online</th>\n",
       "      <td>1.99</td>\n",
       "      <td>800.95</td>\n",
       "      <td>77.470480</td>\n",
       "      <td>42.08</td>\n",
       "    </tr>\n",
       "  </tbody>\n",
       "</table>\n",
       "</div>"
      ],
      "text/plain": [
       "                min     max       mean  median\n",
       "sales_channel                                 \n",
       "Offline        1.99  800.96  76.995706   42.04\n",
       "Online         1.99  800.95  77.470480   42.08"
      ]
     },
     "execution_count": 20,
     "metadata": {},
     "output_type": "execute_result"
    }
   ],
   "source": [
    "# Group by sales_channel and get min/max/average/median product_price\n",
    "product_price_summary = df_combined.groupby('sales_channel')['product_price'].agg(['min', 'max', 'mean', 'median'])\n",
    "\n",
    "product_price_summary"
   ]
  },
  {
   "cell_type": "code",
   "execution_count": 21,
   "id": "46b429b6",
   "metadata": {},
   "outputs": [],
   "source": [
    "# Ok"
   ]
  },
  {
   "cell_type": "markdown",
   "id": "fac6754c",
   "metadata": {},
   "source": [
    "#### 7. quantity_sold        "
   ]
  },
  {
   "cell_type": "code",
   "execution_count": 22,
   "id": "a10e2dbf",
   "metadata": {},
   "outputs": [
    {
     "data": {
      "text/html": [
       "<div>\n",
       "<style scoped>\n",
       "    .dataframe tbody tr th:only-of-type {\n",
       "        vertical-align: middle;\n",
       "    }\n",
       "\n",
       "    .dataframe tbody tr th {\n",
       "        vertical-align: top;\n",
       "    }\n",
       "\n",
       "    .dataframe thead th {\n",
       "        text-align: right;\n",
       "    }\n",
       "</style>\n",
       "<table border=\"1\" class=\"dataframe\">\n",
       "  <thead>\n",
       "    <tr style=\"text-align: right;\">\n",
       "      <th></th>\n",
       "      <th>min</th>\n",
       "      <th>max</th>\n",
       "      <th>mean</th>\n",
       "      <th>median</th>\n",
       "    </tr>\n",
       "    <tr>\n",
       "      <th>sales_channel</th>\n",
       "      <th></th>\n",
       "      <th></th>\n",
       "      <th></th>\n",
       "      <th></th>\n",
       "    </tr>\n",
       "  </thead>\n",
       "  <tbody>\n",
       "    <tr>\n",
       "      <th>Offline</th>\n",
       "      <td>1</td>\n",
       "      <td>10</td>\n",
       "      <td>5.502864</td>\n",
       "      <td>6.0</td>\n",
       "    </tr>\n",
       "    <tr>\n",
       "      <th>Online</th>\n",
       "      <td>1</td>\n",
       "      <td>10</td>\n",
       "      <td>5.504255</td>\n",
       "      <td>6.0</td>\n",
       "    </tr>\n",
       "  </tbody>\n",
       "</table>\n",
       "</div>"
      ],
      "text/plain": [
       "               min  max      mean  median\n",
       "sales_channel                            \n",
       "Offline          1   10  5.502864     6.0\n",
       "Online           1   10  5.504255     6.0"
      ]
     },
     "execution_count": 22,
     "metadata": {},
     "output_type": "execute_result"
    }
   ],
   "source": [
    "# Group by sales_channel and get min/max/average/median quantity_sold\n",
    "quantity_sold_summary = df_combined.groupby('sales_channel')['quantity_sold'].agg(['min', 'max', 'mean', 'median'])\n",
    "\n",
    "quantity_sold_summary"
   ]
  },
  {
   "cell_type": "code",
   "execution_count": 23,
   "id": "f887d385",
   "metadata": {},
   "outputs": [],
   "source": [
    "# Ok"
   ]
  },
  {
   "cell_type": "markdown",
   "id": "ad071e31",
   "metadata": {},
   "source": [
    "#### 8. total_amount         "
   ]
  },
  {
   "cell_type": "code",
   "execution_count": 24,
   "id": "cf8fee55",
   "metadata": {},
   "outputs": [
    {
     "data": {
      "text/html": [
       "<div>\n",
       "<style scoped>\n",
       "    .dataframe tbody tr th:only-of-type {\n",
       "        vertical-align: middle;\n",
       "    }\n",
       "\n",
       "    .dataframe tbody tr th {\n",
       "        vertical-align: top;\n",
       "    }\n",
       "\n",
       "    .dataframe thead th {\n",
       "        text-align: right;\n",
       "    }\n",
       "</style>\n",
       "<table border=\"1\" class=\"dataframe\">\n",
       "  <thead>\n",
       "    <tr style=\"text-align: right;\">\n",
       "      <th></th>\n",
       "      <th>min</th>\n",
       "      <th>max</th>\n",
       "      <th>mean</th>\n",
       "      <th>median</th>\n",
       "    </tr>\n",
       "    <tr>\n",
       "      <th>sales_channel</th>\n",
       "      <th></th>\n",
       "      <th></th>\n",
       "      <th></th>\n",
       "      <th></th>\n",
       "    </tr>\n",
       "  </thead>\n",
       "  <tbody>\n",
       "    <tr>\n",
       "      <th>Offline</th>\n",
       "      <td>2.05</td>\n",
       "      <td>8001.6</td>\n",
       "      <td>424.335285</td>\n",
       "      <td>187.15</td>\n",
       "    </tr>\n",
       "    <tr>\n",
       "      <th>Online</th>\n",
       "      <td>1.64</td>\n",
       "      <td>8007.4</td>\n",
       "      <td>404.625096</td>\n",
       "      <td>177.63</td>\n",
       "    </tr>\n",
       "  </tbody>\n",
       "</table>\n",
       "</div>"
      ],
      "text/plain": [
       "                min     max        mean  median\n",
       "sales_channel                                  \n",
       "Offline        2.05  8001.6  424.335285  187.15\n",
       "Online         1.64  8007.4  404.625096  177.63"
      ]
     },
     "execution_count": 24,
     "metadata": {},
     "output_type": "execute_result"
    }
   ],
   "source": [
    "# Group by sales_channel and get min/max/average/median total_amount\n",
    "total_amount_summary = df_combined.groupby('sales_channel')['total_amount'].agg(['min', 'max', 'mean', 'median'])\n",
    "\n",
    "total_amount_summary"
   ]
  },
  {
   "cell_type": "markdown",
   "id": "8de58595",
   "metadata": {},
   "source": [
    "#### 9.total_costs          "
   ]
  },
  {
   "cell_type": "code",
   "execution_count": 25,
   "id": "f6dc98fe",
   "metadata": {},
   "outputs": [
    {
     "data": {
      "text/html": [
       "<div>\n",
       "<style scoped>\n",
       "    .dataframe tbody tr th:only-of-type {\n",
       "        vertical-align: middle;\n",
       "    }\n",
       "\n",
       "    .dataframe tbody tr th {\n",
       "        vertical-align: top;\n",
       "    }\n",
       "\n",
       "    .dataframe thead th {\n",
       "        text-align: right;\n",
       "    }\n",
       "</style>\n",
       "<table border=\"1\" class=\"dataframe\">\n",
       "  <thead>\n",
       "    <tr style=\"text-align: right;\">\n",
       "      <th></th>\n",
       "      <th>min</th>\n",
       "      <th>max</th>\n",
       "      <th>mean</th>\n",
       "      <th>median</th>\n",
       "    </tr>\n",
       "    <tr>\n",
       "      <th>sales_channel</th>\n",
       "      <th></th>\n",
       "      <th></th>\n",
       "      <th></th>\n",
       "      <th></th>\n",
       "    </tr>\n",
       "  </thead>\n",
       "  <tbody>\n",
       "    <tr>\n",
       "      <th>Offline</th>\n",
       "      <td>0.80</td>\n",
       "      <td>3203.1</td>\n",
       "      <td>169.547726</td>\n",
       "      <td>74.88</td>\n",
       "    </tr>\n",
       "    <tr>\n",
       "      <th>Online</th>\n",
       "      <td>0.82</td>\n",
       "      <td>3203.3</td>\n",
       "      <td>170.137032</td>\n",
       "      <td>75.12</td>\n",
       "    </tr>\n",
       "  </tbody>\n",
       "</table>\n",
       "</div>"
      ],
      "text/plain": [
       "                min     max        mean  median\n",
       "sales_channel                                  \n",
       "Offline        0.80  3203.1  169.547726   74.88\n",
       "Online         0.82  3203.3  170.137032   75.12"
      ]
     },
     "execution_count": 25,
     "metadata": {},
     "output_type": "execute_result"
    }
   ],
   "source": [
    "# Group by sales_channel and get min/max/average/median total_costs\n",
    "total_costs_summary = df_combined.groupby('sales_channel')['total_costs'].agg(['min', 'max', 'mean', 'median'])\n",
    "\n",
    "total_costs_summary"
   ]
  },
  {
   "cell_type": "markdown",
   "id": "781612e2",
   "metadata": {},
   "source": [
    "#### 10.payment_type         "
   ]
  },
  {
   "cell_type": "code",
   "execution_count": 26,
   "id": "14c6b9e0",
   "metadata": {},
   "outputs": [
    {
     "data": {
      "text/html": [
       "<div>\n",
       "<style scoped>\n",
       "    .dataframe tbody tr th:only-of-type {\n",
       "        vertical-align: middle;\n",
       "    }\n",
       "\n",
       "    .dataframe tbody tr th {\n",
       "        vertical-align: top;\n",
       "    }\n",
       "\n",
       "    .dataframe thead th {\n",
       "        text-align: right;\n",
       "    }\n",
       "</style>\n",
       "<table border=\"1\" class=\"dataframe\">\n",
       "  <thead>\n",
       "    <tr style=\"text-align: right;\">\n",
       "      <th></th>\n",
       "      <th></th>\n",
       "      <th>count</th>\n",
       "    </tr>\n",
       "    <tr>\n",
       "      <th>sales_channel</th>\n",
       "      <th>payment_type</th>\n",
       "      <th></th>\n",
       "    </tr>\n",
       "  </thead>\n",
       "  <tbody>\n",
       "    <tr>\n",
       "      <th rowspan=\"6\" valign=\"top\">Offline</th>\n",
       "      <th>bank transfer</th>\n",
       "      <td>71297</td>\n",
       "    </tr>\n",
       "    <tr>\n",
       "      <th>cash</th>\n",
       "      <td>107336</td>\n",
       "    </tr>\n",
       "    <tr>\n",
       "      <th>credit card</th>\n",
       "      <td>107305</td>\n",
       "    </tr>\n",
       "    <tr>\n",
       "      <th>debit card</th>\n",
       "      <td>107697</td>\n",
       "    </tr>\n",
       "    <tr>\n",
       "      <th>gift card</th>\n",
       "      <td>35698</td>\n",
       "    </tr>\n",
       "    <tr>\n",
       "      <th>mobile payment</th>\n",
       "      <td>71667</td>\n",
       "    </tr>\n",
       "    <tr>\n",
       "      <th rowspan=\"8\" valign=\"top\">Online</th>\n",
       "      <th>PayPal</th>\n",
       "      <td>96469</td>\n",
       "    </tr>\n",
       "    <tr>\n",
       "      <th>bank wire</th>\n",
       "      <td>48743</td>\n",
       "    </tr>\n",
       "    <tr>\n",
       "      <th>cash</th>\n",
       "      <td>48456</td>\n",
       "    </tr>\n",
       "    <tr>\n",
       "      <th>credit card</th>\n",
       "      <td>96867</td>\n",
       "    </tr>\n",
       "    <tr>\n",
       "      <th>debit card</th>\n",
       "      <td>96849</td>\n",
       "    </tr>\n",
       "    <tr>\n",
       "      <th>eps</th>\n",
       "      <td>48352</td>\n",
       "    </tr>\n",
       "    <tr>\n",
       "      <th>gift card</th>\n",
       "      <td>48602</td>\n",
       "    </tr>\n",
       "    <tr>\n",
       "      <th>iDEAL</th>\n",
       "      <td>48662</td>\n",
       "    </tr>\n",
       "  </tbody>\n",
       "</table>\n",
       "</div>"
      ],
      "text/plain": [
       "                               count\n",
       "sales_channel payment_type          \n",
       "Offline       bank transfer    71297\n",
       "              cash            107336\n",
       "              credit card     107305\n",
       "              debit card      107697\n",
       "              gift card        35698\n",
       "              mobile payment   71667\n",
       "Online        PayPal           96469\n",
       "              bank wire        48743\n",
       "              cash             48456\n",
       "              credit card      96867\n",
       "              debit card       96849\n",
       "              eps              48352\n",
       "              gift card        48602\n",
       "              iDEAL            48662"
      ]
     },
     "execution_count": 26,
     "metadata": {},
     "output_type": "execute_result"
    }
   ],
   "source": [
    "# Group by sales_channel and get payment_type summary\n",
    "payment_type_summary = df_combined.groupby(['sales_channel', 'payment_type'])['payment_type'].agg(['count'])\n",
    "\n",
    "payment_type_summary"
   ]
  },
  {
   "cell_type": "code",
   "execution_count": 27,
   "id": "80d65b3b",
   "metadata": {},
   "outputs": [],
   "source": [
    "# Ok we have various payment_methods for both online and offline data which is quite logical and good, we can move on"
   ]
  },
  {
   "cell_type": "markdown",
   "id": "95a668b3",
   "metadata": {},
   "source": [
    "#### 11. shipping_method      "
   ]
  },
  {
   "cell_type": "code",
   "execution_count": 28,
   "id": "b0bcf79a",
   "metadata": {},
   "outputs": [
    {
     "data": {
      "text/html": [
       "<div>\n",
       "<style scoped>\n",
       "    .dataframe tbody tr th:only-of-type {\n",
       "        vertical-align: middle;\n",
       "    }\n",
       "\n",
       "    .dataframe tbody tr th {\n",
       "        vertical-align: top;\n",
       "    }\n",
       "\n",
       "    .dataframe thead th {\n",
       "        text-align: right;\n",
       "    }\n",
       "</style>\n",
       "<table border=\"1\" class=\"dataframe\">\n",
       "  <thead>\n",
       "    <tr style=\"text-align: right;\">\n",
       "      <th></th>\n",
       "      <th></th>\n",
       "      <th>count</th>\n",
       "    </tr>\n",
       "    <tr>\n",
       "      <th>sales_channel</th>\n",
       "      <th>shipping_method</th>\n",
       "      <th></th>\n",
       "    </tr>\n",
       "  </thead>\n",
       "  <tbody>\n",
       "    <tr>\n",
       "      <th rowspan=\"4\" valign=\"top\">Online</th>\n",
       "      <th>DHL</th>\n",
       "      <td>133087</td>\n",
       "    </tr>\n",
       "    <tr>\n",
       "      <th>DSV</th>\n",
       "      <td>133542</td>\n",
       "    </tr>\n",
       "    <tr>\n",
       "      <th>USPS</th>\n",
       "      <td>133488</td>\n",
       "    </tr>\n",
       "    <tr>\n",
       "      <th>dpd</th>\n",
       "      <td>132883</td>\n",
       "    </tr>\n",
       "  </tbody>\n",
       "</table>\n",
       "</div>"
      ],
      "text/plain": [
       "                                count\n",
       "sales_channel shipping_method        \n",
       "Online        DHL              133087\n",
       "              DSV              133542\n",
       "              USPS             133488\n",
       "              dpd              132883"
      ]
     },
     "execution_count": 28,
     "metadata": {},
     "output_type": "execute_result"
    }
   ],
   "source": [
    "# Group by sales_channel and get shipping_method summary\n",
    "shipping_method_summary = df_combined.groupby(['sales_channel', 'shipping_method'])['shipping_method'].agg(['count'])\n",
    "\n",
    "shipping_method_summary"
   ]
  },
  {
   "cell_type": "code",
   "execution_count": 29,
   "id": "43788eba",
   "metadata": {},
   "outputs": [],
   "source": [
    "# This is quite logical as well, as the online data had this column, there are no values for offline data. We will add\n",
    "# a value like 'instore_pickup' or something like that for the offline part of the data"
   ]
  },
  {
   "cell_type": "markdown",
   "id": "cc7343d0",
   "metadata": {},
   "source": [
    "#### 12. coupon_discount      "
   ]
  },
  {
   "cell_type": "code",
   "execution_count": 30,
   "id": "f1bdc404",
   "metadata": {},
   "outputs": [
    {
     "name": "stderr",
     "output_type": "stream",
     "text": [
      "C:\\Users\\atans\\anaconda3\\Lib\\site-packages\\numpy\\lib\\nanfunctions.py:1215: RuntimeWarning: Mean of empty slice\n",
      "  return np.nanmean(a, axis, out=out, keepdims=keepdims)\n"
     ]
    },
    {
     "data": {
      "text/html": [
       "<div>\n",
       "<style scoped>\n",
       "    .dataframe tbody tr th:only-of-type {\n",
       "        vertical-align: middle;\n",
       "    }\n",
       "\n",
       "    .dataframe tbody tr th {\n",
       "        vertical-align: top;\n",
       "    }\n",
       "\n",
       "    .dataframe thead th {\n",
       "        text-align: right;\n",
       "    }\n",
       "</style>\n",
       "<table border=\"1\" class=\"dataframe\">\n",
       "  <thead>\n",
       "    <tr style=\"text-align: right;\">\n",
       "      <th></th>\n",
       "      <th>min</th>\n",
       "      <th>max</th>\n",
       "      <th>mean</th>\n",
       "      <th>median</th>\n",
       "    </tr>\n",
       "    <tr>\n",
       "      <th>sales_channel</th>\n",
       "      <th></th>\n",
       "      <th></th>\n",
       "      <th></th>\n",
       "      <th></th>\n",
       "    </tr>\n",
       "  </thead>\n",
       "  <tbody>\n",
       "    <tr>\n",
       "      <th>Offline</th>\n",
       "      <td>NaN</td>\n",
       "      <td>NaN</td>\n",
       "      <td>NaN</td>\n",
       "      <td>NaN</td>\n",
       "    </tr>\n",
       "    <tr>\n",
       "      <th>Online</th>\n",
       "      <td>0.0</td>\n",
       "      <td>25.0</td>\n",
       "      <td>4.9806</td>\n",
       "      <td>0.0</td>\n",
       "    </tr>\n",
       "  </tbody>\n",
       "</table>\n",
       "</div>"
      ],
      "text/plain": [
       "               min   max    mean median\n",
       "sales_channel                          \n",
       "Offline        NaN   NaN     NaN    NaN\n",
       "Online         0.0  25.0  4.9806    0.0"
      ]
     },
     "execution_count": 30,
     "metadata": {},
     "output_type": "execute_result"
    }
   ],
   "source": [
    "# Group by sales_channel and get min/max/average/median coupon_discount\n",
    "coupon_discount_summary = df_combined.groupby('sales_channel')['coupon_discount'].agg(['min', 'max', 'mean', 'median'])\n",
    "\n",
    "coupon_discount_summary"
   ]
  },
  {
   "cell_type": "code",
   "execution_count": 31,
   "id": "81aa5669",
   "metadata": {},
   "outputs": [],
   "source": [
    "# Offline data didn't have such a column 'coupon_discount', we will fill it with 0 (the offline part of the data)"
   ]
  },
  {
   "cell_type": "markdown",
   "id": "0ccea0cf",
   "metadata": {},
   "source": [
    "#### 13. customer_firstname"
   ]
  },
  {
   "cell_type": "code",
   "execution_count": 32,
   "id": "1e860700",
   "metadata": {},
   "outputs": [
    {
     "name": "stdout",
     "output_type": "stream",
     "text": [
      "First names only in Online sales: set()\n",
      "First names in Offline sales: set()\n"
     ]
    }
   ],
   "source": [
    "# Get unique customer_firstname per sales channel\n",
    "first_names_per_channel = df_combined.groupby('sales_channel')['customer_firstname'].unique()\n",
    "\n",
    "# Convert to sets for easy comparison\n",
    "online_firstname = set(first_names_per_channel.get('Online', []))\n",
    "offline_firstname = set(first_names_per_channel.get('Offline', []))\n",
    "\n",
    "# Find differences\n",
    "only_in_online_firstnames = online_firstname - offline_firstname\n",
    "only_in_offline_firstnames = offline_firstname - online_firstname\n",
    "\n",
    "# Display results\n",
    "print(\"First names only in Online sales:\", only_in_online_firstnames)\n",
    "print(\"First names in Offline sales:\", only_in_offline_firstnames)"
   ]
  },
  {
   "cell_type": "code",
   "execution_count": 33,
   "id": "6df53ebb",
   "metadata": {},
   "outputs": [],
   "source": [
    "# ok, nothing surprising, there aren't any first names in one part which don't exist in another part of the data"
   ]
  },
  {
   "cell_type": "markdown",
   "id": "28c45c62",
   "metadata": {},
   "source": [
    "#### 14. customer_lastname"
   ]
  },
  {
   "cell_type": "code",
   "execution_count": 34,
   "id": "6273b759",
   "metadata": {},
   "outputs": [
    {
     "name": "stdout",
     "output_type": "stream",
     "text": [
      "Last names only in Online sales: {'Romero', 'Studd', 'Souness', 'Woodland', 'Tomes', 'Alyoshin', 'Vigers', 'Brazer', 'Mitkcov', 'Eilhart', 'Wawer', 'Arsey', 'McHaffy', 'Gerhartz', 'Keri', 'Haswall', 'Lauthian', 'Glassard', 'Bather', 'Bill', 'Widocks', 'Alwell', 'Parmeter', 'Brocking', 'Royson', 'Purkiss', 'Klamman', 'Branche', 'Glazer', 'Caustic', 'Goundsy', 'Battson'}\n",
      "Last names only in Offline sales: {'Barwell', 'Trobey', 'Hodge'}\n"
     ]
    }
   ],
   "source": [
    "# Get unique customer_lastname per sales channel\n",
    "last_names_per_channel = df_combined.groupby('sales_channel')['customer_lastname'].unique()\n",
    "\n",
    "# Convert to sets for easy comparison\n",
    "online_lasttname = set(last_names_per_channel.get('Online', []))\n",
    "offline_lastname = set(last_names_per_channel.get('Offline', []))\n",
    "\n",
    "# Find differences\n",
    "only_in_online_lastnames = online_lasttname - offline_lastname\n",
    "only_in_offline_lastnames = offline_lastname - online_lasttname\n",
    "\n",
    "# Display results\n",
    "print(\"Last names only in Online sales:\", only_in_online_lastnames)\n",
    "print(\"Last names only in Offline sales:\", only_in_offline_lastnames)"
   ]
  },
  {
   "cell_type": "code",
   "execution_count": 35,
   "id": "a86d92db",
   "metadata": {},
   "outputs": [],
   "source": [
    "# ok, we see that there were different users, who bought online and offline, quite logical too"
   ]
  },
  {
   "cell_type": "markdown",
   "id": "b8727485",
   "metadata": {},
   "source": [
    "#### 15. customer_gender"
   ]
  },
  {
   "cell_type": "code",
   "execution_count": 36,
   "id": "54a749e2",
   "metadata": {},
   "outputs": [
    {
     "data": {
      "text/html": [
       "<div>\n",
       "<style scoped>\n",
       "    .dataframe tbody tr th:only-of-type {\n",
       "        vertical-align: middle;\n",
       "    }\n",
       "\n",
       "    .dataframe tbody tr th {\n",
       "        vertical-align: top;\n",
       "    }\n",
       "\n",
       "    .dataframe thead th {\n",
       "        text-align: right;\n",
       "    }\n",
       "</style>\n",
       "<table border=\"1\" class=\"dataframe\">\n",
       "  <thead>\n",
       "    <tr style=\"text-align: right;\">\n",
       "      <th></th>\n",
       "      <th></th>\n",
       "      <th>count</th>\n",
       "    </tr>\n",
       "    <tr>\n",
       "      <th>sales_channel</th>\n",
       "      <th>customer_gender</th>\n",
       "      <th></th>\n",
       "    </tr>\n",
       "  </thead>\n",
       "  <tbody>\n",
       "    <tr>\n",
       "      <th rowspan=\"8\" valign=\"top\">Offline</th>\n",
       "      <th>Agender</th>\n",
       "      <td>8759</td>\n",
       "    </tr>\n",
       "    <tr>\n",
       "      <th>Bigender</th>\n",
       "      <td>8476</td>\n",
       "    </tr>\n",
       "    <tr>\n",
       "      <th>Female</th>\n",
       "      <td>226773</td>\n",
       "    </tr>\n",
       "    <tr>\n",
       "      <th>Genderfluid</th>\n",
       "      <td>8107</td>\n",
       "    </tr>\n",
       "    <tr>\n",
       "      <th>Genderqueer</th>\n",
       "      <td>8498</td>\n",
       "    </tr>\n",
       "    <tr>\n",
       "      <th>Male</th>\n",
       "      <td>223997</td>\n",
       "    </tr>\n",
       "    <tr>\n",
       "      <th>Non-binary</th>\n",
       "      <td>8224</td>\n",
       "    </tr>\n",
       "    <tr>\n",
       "      <th>Polygender</th>\n",
       "      <td>8166</td>\n",
       "    </tr>\n",
       "    <tr>\n",
       "      <th rowspan=\"8\" valign=\"top\">Online</th>\n",
       "      <th>Agender</th>\n",
       "      <td>8819</td>\n",
       "    </tr>\n",
       "    <tr>\n",
       "      <th>Bigender</th>\n",
       "      <td>8879</td>\n",
       "    </tr>\n",
       "    <tr>\n",
       "      <th>Female</th>\n",
       "      <td>239503</td>\n",
       "    </tr>\n",
       "    <tr>\n",
       "      <th>Genderfluid</th>\n",
       "      <td>9032</td>\n",
       "    </tr>\n",
       "    <tr>\n",
       "      <th>Genderqueer</th>\n",
       "      <td>8887</td>\n",
       "    </tr>\n",
       "    <tr>\n",
       "      <th>Male</th>\n",
       "      <td>239812</td>\n",
       "    </tr>\n",
       "    <tr>\n",
       "      <th>Non-binary</th>\n",
       "      <td>8997</td>\n",
       "    </tr>\n",
       "    <tr>\n",
       "      <th>Polygender</th>\n",
       "      <td>9071</td>\n",
       "    </tr>\n",
       "  </tbody>\n",
       "</table>\n",
       "</div>"
      ],
      "text/plain": [
       "                                count\n",
       "sales_channel customer_gender        \n",
       "Offline       Agender            8759\n",
       "              Bigender           8476\n",
       "              Female           226773\n",
       "              Genderfluid        8107\n",
       "              Genderqueer        8498\n",
       "              Male             223997\n",
       "              Non-binary         8224\n",
       "              Polygender         8166\n",
       "Online        Agender            8819\n",
       "              Bigender           8879\n",
       "              Female           239503\n",
       "              Genderfluid        9032\n",
       "              Genderqueer        8887\n",
       "              Male             239812\n",
       "              Non-binary         8997\n",
       "              Polygender         9071"
      ]
     },
     "execution_count": 36,
     "metadata": {},
     "output_type": "execute_result"
    }
   ],
   "source": [
    "# Group by sales_channel and get customer_gender summary\n",
    "gender_summary = df_combined.groupby(['sales_channel', 'customer_gender'])['customer_gender'].agg(['count'])\n",
    "\n",
    "gender_summary"
   ]
  },
  {
   "cell_type": "markdown",
   "id": "fdf94090",
   "metadata": {},
   "source": [
    "#### 16. customer_age         "
   ]
  },
  {
   "cell_type": "code",
   "execution_count": 37,
   "id": "baf3fdcf",
   "metadata": {},
   "outputs": [
    {
     "name": "stderr",
     "output_type": "stream",
     "text": [
      "C:\\Users\\atans\\anaconda3\\Lib\\site-packages\\numpy\\lib\\nanfunctions.py:1215: RuntimeWarning: Mean of empty slice\n",
      "  return np.nanmean(a, axis, out=out, keepdims=keepdims)\n"
     ]
    },
    {
     "data": {
      "text/html": [
       "<div>\n",
       "<style scoped>\n",
       "    .dataframe tbody tr th:only-of-type {\n",
       "        vertical-align: middle;\n",
       "    }\n",
       "\n",
       "    .dataframe tbody tr th {\n",
       "        vertical-align: top;\n",
       "    }\n",
       "\n",
       "    .dataframe thead th {\n",
       "        text-align: right;\n",
       "    }\n",
       "</style>\n",
       "<table border=\"1\" class=\"dataframe\">\n",
       "  <thead>\n",
       "    <tr style=\"text-align: right;\">\n",
       "      <th></th>\n",
       "      <th>min</th>\n",
       "      <th>max</th>\n",
       "      <th>mean</th>\n",
       "      <th>median</th>\n",
       "    </tr>\n",
       "    <tr>\n",
       "      <th>sales_channel</th>\n",
       "      <th></th>\n",
       "      <th></th>\n",
       "      <th></th>\n",
       "      <th></th>\n",
       "    </tr>\n",
       "  </thead>\n",
       "  <tbody>\n",
       "    <tr>\n",
       "      <th>Offline</th>\n",
       "      <td>NaN</td>\n",
       "      <td>NaN</td>\n",
       "      <td>NaN</td>\n",
       "      <td>NaN</td>\n",
       "    </tr>\n",
       "    <tr>\n",
       "      <th>Online</th>\n",
       "      <td>16.0</td>\n",
       "      <td>42.0</td>\n",
       "      <td>29.009642</td>\n",
       "      <td>29.0</td>\n",
       "    </tr>\n",
       "  </tbody>\n",
       "</table>\n",
       "</div>"
      ],
      "text/plain": [
       "                min   max       mean median\n",
       "sales_channel                              \n",
       "Offline         NaN   NaN        NaN    NaN\n",
       "Online         16.0  42.0  29.009642   29.0"
      ]
     },
     "execution_count": 37,
     "metadata": {},
     "output_type": "execute_result"
    }
   ],
   "source": [
    "# Group by sales_channel and get min/max/average/median customer_age\n",
    "customer_age_summary = df_combined.groupby('sales_channel')['customer_age'].agg(['min', 'max', 'mean', 'median'])\n",
    "\n",
    "customer_age_summary"
   ]
  },
  {
   "cell_type": "code",
   "execution_count": 38,
   "id": "67945e0d",
   "metadata": {},
   "outputs": [],
   "source": [
    "# Offline data didn't have such a column 'cusomer_age', we will probably not fill it with any values, unfortunately"
   ]
  },
  {
   "cell_type": "markdown",
   "id": "d9f16db6",
   "metadata": {},
   "source": [
    "#### 17. customer_shirtsize   "
   ]
  },
  {
   "cell_type": "code",
   "execution_count": 39,
   "id": "ebe23029",
   "metadata": {},
   "outputs": [
    {
     "data": {
      "text/html": [
       "<div>\n",
       "<style scoped>\n",
       "    .dataframe tbody tr th:only-of-type {\n",
       "        vertical-align: middle;\n",
       "    }\n",
       "\n",
       "    .dataframe tbody tr th {\n",
       "        vertical-align: top;\n",
       "    }\n",
       "\n",
       "    .dataframe thead th {\n",
       "        text-align: right;\n",
       "    }\n",
       "</style>\n",
       "<table border=\"1\" class=\"dataframe\">\n",
       "  <thead>\n",
       "    <tr style=\"text-align: right;\">\n",
       "      <th></th>\n",
       "      <th></th>\n",
       "      <th>count</th>\n",
       "    </tr>\n",
       "    <tr>\n",
       "      <th>sales_channel</th>\n",
       "      <th>customer_shirtsize</th>\n",
       "      <th></th>\n",
       "    </tr>\n",
       "  </thead>\n",
       "  <tbody>\n",
       "    <tr>\n",
       "      <th rowspan=\"7\" valign=\"top\">Online</th>\n",
       "      <th>2XL</th>\n",
       "      <td>75688</td>\n",
       "    </tr>\n",
       "    <tr>\n",
       "      <th>3XL</th>\n",
       "      <td>76521</td>\n",
       "    </tr>\n",
       "    <tr>\n",
       "      <th>L</th>\n",
       "      <td>75932</td>\n",
       "    </tr>\n",
       "    <tr>\n",
       "      <th>M</th>\n",
       "      <td>76121</td>\n",
       "    </tr>\n",
       "    <tr>\n",
       "      <th>S</th>\n",
       "      <td>75863</td>\n",
       "    </tr>\n",
       "    <tr>\n",
       "      <th>XL</th>\n",
       "      <td>76333</td>\n",
       "    </tr>\n",
       "    <tr>\n",
       "      <th>XS</th>\n",
       "      <td>76542</td>\n",
       "    </tr>\n",
       "  </tbody>\n",
       "</table>\n",
       "</div>"
      ],
      "text/plain": [
       "                                  count\n",
       "sales_channel customer_shirtsize       \n",
       "Online        2XL                 75688\n",
       "              3XL                 76521\n",
       "              L                   75932\n",
       "              M                   76121\n",
       "              S                   75863\n",
       "              XL                  76333\n",
       "              XS                  76542"
      ]
     },
     "execution_count": 39,
     "metadata": {},
     "output_type": "execute_result"
    }
   ],
   "source": [
    "# Group by sales_channel and get customer_shirtsize summary\n",
    "shirtsize_summary = df_combined.groupby(['sales_channel', 'customer_shirtsize'])['customer_shirtsize'].agg(['count'])\n",
    "\n",
    "shirtsize_summary"
   ]
  },
  {
   "cell_type": "code",
   "execution_count": 40,
   "id": "92a743f5",
   "metadata": {},
   "outputs": [],
   "source": [
    "# Offline data didn't have such a column 'customer_shirtsize', we will probably not fill it with any values,\n",
    "# unfortunately"
   ]
  },
  {
   "cell_type": "markdown",
   "id": "deb46b41",
   "metadata": {},
   "source": [
    "#### 18. customer_email       "
   ]
  },
  {
   "cell_type": "code",
   "execution_count": 41,
   "id": "a0a1f1fe",
   "metadata": {},
   "outputs": [
    {
     "name": "stdout",
     "output_type": "stream",
     "text": [
      "Email only in Online sales: 438000\n",
      "Email only in Offline sales: 365000\n"
     ]
    }
   ],
   "source": [
    "# Get unique customer_email per sales channel\n",
    "email_per_channel = df_combined.groupby('sales_channel')['customer_email'].unique()\n",
    "\n",
    "# Convert to sets for easy comparison\n",
    "online_email = set(email_per_channel.get('Online', []))\n",
    "offline_email = set(email_per_channel.get('Offline', []))\n",
    "\n",
    "# Find differences\n",
    "only_in_online_email = online_email - offline_email\n",
    "only_in_offline_email = offline_email - online_email\n",
    "\n",
    "# Display results\n",
    "print(\"Email only in Online sales:\", len(only_in_online_email))\n",
    "print(\"Email only in Offline sales:\", len(only_in_offline_email))"
   ]
  },
  {
   "cell_type": "code",
   "execution_count": 42,
   "id": "f45ff4f7",
   "metadata": {},
   "outputs": [],
   "source": [
    "# Ok, it is also pretty logical that in most cases we have different customers in online and offline data"
   ]
  },
  {
   "cell_type": "markdown",
   "id": "c6d89387",
   "metadata": {},
   "source": [
    "#### 19. customer_phone (redundant to check, but let's take a look at the formats at least)"
   ]
  },
  {
   "cell_type": "code",
   "execution_count": 43,
   "id": "f431fc5f",
   "metadata": {},
   "outputs": [
    {
     "name": "stdout",
     "output_type": "stream",
     "text": [
      "Online Sales Channel - Sample Phone Numbers:\n",
      "[4046162577, 8151163527, 7574642820, 5174233916, 7031178726]\n",
      "\n",
      "Offline Sales Channel - Sample Phone Numbers:\n",
      "['602-343-3062', '549-913-3670', '579-641-1913', '652-380-5468', '450-298-1317']\n"
     ]
    }
   ],
   "source": [
    "# Get sample phone numbers for each sales channel\n",
    "online_samples = df_combined[df_combined['sales_channel'] == 'Online']['customer_phone'].sample(5, random_state=42)\n",
    "offline_samples = df_combined[df_combined['sales_channel'] == 'Offline']['customer_phone'].sample(5, random_state=42)\n",
    "\n",
    "# Print results\n",
    "print(\"Online Sales Channel - Sample Phone Numbers:\")\n",
    "print(online_samples.to_list())\n",
    "\n",
    "print(\"\\nOffline Sales Channel - Sample Phone Numbers:\")\n",
    "print(offline_samples.to_list())"
   ]
  },
  {
   "cell_type": "code",
   "execution_count": 44,
   "id": "85dba3df",
   "metadata": {},
   "outputs": [],
   "source": [
    "# they look good, but I think it would be better to transform the phone numbers to look the same in both parts"
   ]
  },
  {
   "cell_type": "markdown",
   "id": "5361ddf2",
   "metadata": {},
   "source": [
    "#### 20. customer_address"
   ]
  },
  {
   "cell_type": "code",
   "execution_count": 45,
   "id": "fd159fc2",
   "metadata": {},
   "outputs": [],
   "source": [
    "# this column exists in online part of the data only, let's take a look at it"
   ]
  },
  {
   "cell_type": "code",
   "execution_count": 46,
   "id": "5e3eb63c",
   "metadata": {},
   "outputs": [
    {
     "data": {
      "text/plain": [
       "511050      85 Barnett Circle\n",
       "360840         59 Judy Center\n",
       "320052        44 Moland Point\n",
       "279735         6 Elka Parkway\n",
       "516430    970 Cherokee Street\n",
       "Name: customer_address, dtype: object"
      ]
     },
     "execution_count": 46,
     "metadata": {},
     "output_type": "execute_result"
    }
   ],
   "source": [
    "online_samples_customer_address =\\\n",
    "    df_combined[df_combined['sales_channel'] == 'Online']['customer_address'].sample(5, random_state=42)\n",
    "\n",
    "online_samples_customer_address"
   ]
  },
  {
   "cell_type": "code",
   "execution_count": 47,
   "id": "a7da9343",
   "metadata": {},
   "outputs": [],
   "source": [
    "# ok, nothing to do here"
   ]
  },
  {
   "cell_type": "markdown",
   "id": "0bfaa741",
   "metadata": {},
   "source": [
    "#### 21. address_details"
   ]
  },
  {
   "cell_type": "code",
   "execution_count": 48,
   "id": "ac75eb56",
   "metadata": {},
   "outputs": [],
   "source": [
    "# this column exists in online part of the data only, let's take a look at it"
   ]
  },
  {
   "cell_type": "code",
   "execution_count": 49,
   "id": "fec3e239",
   "metadata": {},
   "outputs": [
    {
     "data": {
      "text/plain": [
       "['Room 1052', 'Room 1996', 'Apt 1513', 'Apt 14', 'Room 1393']"
      ]
     },
     "execution_count": 49,
     "metadata": {},
     "output_type": "execute_result"
    }
   ],
   "source": [
    "online_samples_address_details =\\\n",
    "    df_combined[df_combined['sales_channel'] == 'Online']['address_details'].sample(5, random_state=42)\n",
    "\n",
    "online_samples_address_details.tolist()"
   ]
  },
  {
   "cell_type": "markdown",
   "id": "063ed32d",
   "metadata": {},
   "source": [
    "#### 22. customer_city        "
   ]
  },
  {
   "cell_type": "code",
   "execution_count": 50,
   "id": "d0b326f8",
   "metadata": {},
   "outputs": [],
   "source": [
    "# this column exists in online part of the data only, let's take a look at it"
   ]
  },
  {
   "cell_type": "code",
   "execution_count": 51,
   "id": "d6ebd9d7",
   "metadata": {},
   "outputs": [
    {
     "data": {
      "text/plain": [
       "['Atlanta', 'Rockford', 'Virginia Beach', 'Lansing', 'Washington']"
      ]
     },
     "execution_count": 51,
     "metadata": {},
     "output_type": "execute_result"
    }
   ],
   "source": [
    "online_samples_customer_city =\\\n",
    "    df_combined[df_combined['sales_channel'] == 'Online']['customer_city'].sample(5, random_state=42)\n",
    "\n",
    "online_samples_customer_city.tolist()"
   ]
  },
  {
   "cell_type": "code",
   "execution_count": 52,
   "id": "598ae180",
   "metadata": {},
   "outputs": [],
   "source": [
    "# To fill this column for the offline part of the data, we will get values from store_city column, assuming customers\n",
    "# live in cities where they phisically purchase things"
   ]
  },
  {
   "cell_type": "markdown",
   "id": "4a93a026",
   "metadata": {},
   "source": [
    "#### 23. customer_state"
   ]
  },
  {
   "cell_type": "code",
   "execution_count": 53,
   "id": "02543f28",
   "metadata": {},
   "outputs": [],
   "source": [
    "# this column exists in online part of the data only, let's take a look at it"
   ]
  },
  {
   "cell_type": "code",
   "execution_count": 54,
   "id": "8190ff83",
   "metadata": {},
   "outputs": [
    {
     "data": {
      "text/plain": [
       "['GA', 'IL', 'VA', 'MI', 'DC']"
      ]
     },
     "execution_count": 54,
     "metadata": {},
     "output_type": "execute_result"
    }
   ],
   "source": [
    "online_samples_customer_state =\\\n",
    "    df_combined[df_combined['sales_channel'] == 'Online']['customer_state'].sample(5, random_state=42)\n",
    "\n",
    "online_samples_customer_state.tolist()"
   ]
  },
  {
   "cell_type": "code",
   "execution_count": 55,
   "id": "ba1f6c58",
   "metadata": {},
   "outputs": [],
   "source": [
    "# To fill this column for the offline part of the data, we will get values from store_state column, assuming customers\n",
    "# live in states where they phisically purchase things"
   ]
  },
  {
   "cell_type": "markdown",
   "id": "c3e2e567",
   "metadata": {},
   "source": [
    "#### 24. store_website"
   ]
  },
  {
   "cell_type": "code",
   "execution_count": 56,
   "id": "941caac3",
   "metadata": {},
   "outputs": [],
   "source": [
    "# We do know this column exits in the online part of the data, we can't fill the offline part with any values\n",
    "# we'll just take a look at a few examples"
   ]
  },
  {
   "cell_type": "code",
   "execution_count": 57,
   "id": "b24e5a44",
   "metadata": {},
   "outputs": [
    {
     "data": {
      "text/plain": [
       "['snaproutesports.com',\n",
       " 'endzoneexpress.com',\n",
       " 'tackle treasures.com',\n",
       " 'spikestrategies.com',\n",
       " 'helmethavenusa.com']"
      ]
     },
     "execution_count": 57,
     "metadata": {},
     "output_type": "execute_result"
    }
   ],
   "source": [
    "online_samples_store_website =\\\n",
    "    df_combined[df_combined['sales_channel'] == 'Online']['store_website'].sample(5, random_state=42)\n",
    "\n",
    "online_samples_store_website.tolist()"
   ]
  },
  {
   "cell_type": "markdown",
   "id": "b3885422",
   "metadata": {},
   "source": [
    "#### 25. employee_firstname"
   ]
  },
  {
   "cell_type": "code",
   "execution_count": 58,
   "id": "d9c53a07",
   "metadata": {},
   "outputs": [],
   "source": [
    "# We do know this column exits in the online part of the data, we can't fill the offline part with any values\n",
    "# we'll just take a look at a few examples"
   ]
  },
  {
   "cell_type": "code",
   "execution_count": 59,
   "id": "db3f989a",
   "metadata": {},
   "outputs": [
    {
     "data": {
      "text/plain": [
       "['Ryann', 'Dare', 'Innis', 'Dana', 'Johnna']"
      ]
     },
     "execution_count": 59,
     "metadata": {},
     "output_type": "execute_result"
    }
   ],
   "source": [
    "online_samples_employee_firstname =\\\n",
    "    df_combined[df_combined['sales_channel'] == 'Online']['employee_firstname'].sample(5, random_state=42)\n",
    "\n",
    "online_samples_employee_firstname.tolist()"
   ]
  },
  {
   "cell_type": "markdown",
   "id": "faf14873",
   "metadata": {},
   "source": [
    "#### 26. employee_lastname"
   ]
  },
  {
   "cell_type": "code",
   "execution_count": 60,
   "id": "e009bc18",
   "metadata": {},
   "outputs": [],
   "source": [
    "# We do know this column exits in the online part of the data, we can't fill the offline part with any values\n",
    "# we'll just take a look at a few examples"
   ]
  },
  {
   "cell_type": "code",
   "execution_count": 61,
   "id": "8b78d2c7",
   "metadata": {},
   "outputs": [
    {
     "data": {
      "text/plain": [
       "['Spendlove', 'Wrightham', 'Whawell', 'Lacasa', 'Litel']"
      ]
     },
     "execution_count": 61,
     "metadata": {},
     "output_type": "execute_result"
    }
   ],
   "source": [
    "online_samples_employee_lastname =\\\n",
    "    df_combined[df_combined['sales_channel'] == 'Online']['employee_lastname'].sample(5, random_state=42)\n",
    "\n",
    "online_samples_employee_lastname.tolist()"
   ]
  },
  {
   "cell_type": "code",
   "execution_count": 62,
   "id": "3a0b1e36",
   "metadata": {},
   "outputs": [],
   "source": [
    "# weird names but ok"
   ]
  },
  {
   "cell_type": "markdown",
   "id": "0329f88c",
   "metadata": {},
   "source": [
    "#### 27. employee_email"
   ]
  },
  {
   "cell_type": "code",
   "execution_count": 63,
   "id": "8be8afbf",
   "metadata": {},
   "outputs": [],
   "source": [
    "# We do know this column exits in the online part of the data, we can't fill the offline part with any values\n",
    "# we'll just take a look at a few examples"
   ]
  },
  {
   "cell_type": "code",
   "execution_count": 64,
   "id": "55c86587",
   "metadata": {},
   "outputs": [
    {
     "data": {
      "text/plain": [
       "['phainsworth4f@economist.com',\n",
       " 'mgoodley4x@scientificamerican.com',\n",
       " 'kspeck6e@imgur.com',\n",
       " 'nghioni6d@salon.com',\n",
       " 'atowsie5x@samsung.com']"
      ]
     },
     "execution_count": 64,
     "metadata": {},
     "output_type": "execute_result"
    }
   ],
   "source": [
    "online_samples_employee_email =\\\n",
    "    df_combined[df_combined['sales_channel'] == 'Online']['employee_email'].sample(5, random_state=42)\n",
    "\n",
    "online_samples_employee_email.tolist()"
   ]
  },
  {
   "cell_type": "code",
   "execution_count": 65,
   "id": "8267df1e",
   "metadata": {},
   "outputs": [],
   "source": [
    "# ok, invented emails but this is our data"
   ]
  },
  {
   "cell_type": "markdown",
   "id": "6a07bd83",
   "metadata": {},
   "source": [
    "#### 28. employee_skill"
   ]
  },
  {
   "cell_type": "code",
   "execution_count": 66,
   "id": "a782754d",
   "metadata": {},
   "outputs": [],
   "source": [
    "# We do know this column exits in the online part of the data, we can't fill the offline part with any values\n",
    "# we'll just take a look at a few examples"
   ]
  },
  {
   "cell_type": "code",
   "execution_count": 67,
   "id": "1e56f256",
   "metadata": {},
   "outputs": [
    {
     "data": {
      "text/plain": [
       "['Scripting',\n",
       " 'HGV',\n",
       " 'Urban Infill',\n",
       " 'Microsoft Exchange',\n",
       " 'NFL',\n",
       " 'Hyperion',\n",
       " 'Group Work',\n",
       " 'EEOC',\n",
       " 'Ducting',\n",
       " 'LTL',\n",
       " 'Mechanical Engineering',\n",
       " 'Whiplash',\n",
       " 'DS3',\n",
       " 'DS4000',\n",
       " 'DMX',\n",
       " 'DS4000',\n",
       " 'NSA',\n",
       " 'GSE',\n",
       " 'DBMS',\n",
       " 'JCR']"
      ]
     },
     "execution_count": 67,
     "metadata": {},
     "output_type": "execute_result"
    }
   ],
   "source": [
    "online_samples_employee_skill =\\\n",
    "    df_combined[df_combined['sales_channel'] == 'Online']['employee_skill'].sample(20, random_state=42)\n",
    "\n",
    "online_samples_employee_skill.tolist()"
   ]
  },
  {
   "cell_type": "code",
   "execution_count": 68,
   "id": "2767c5ec",
   "metadata": {},
   "outputs": [],
   "source": [
    "# looks like it is something random, but ok, nevermind"
   ]
  },
  {
   "cell_type": "markdown",
   "id": "6bcb4f9c",
   "metadata": {},
   "source": [
    "#### 29. employee_education"
   ]
  },
  {
   "cell_type": "code",
   "execution_count": 69,
   "id": "8031684c",
   "metadata": {},
   "outputs": [],
   "source": [
    "# We do know this column exits in the online part of the data, we can't fill the offline part with any values\n",
    "# we'll just take a look at a few examples"
   ]
  },
  {
   "cell_type": "code",
   "execution_count": 70,
   "id": "7de9d743",
   "metadata": {},
   "outputs": [
    {
     "data": {
      "text/plain": [
       "['University of the Southern Caribbean',\n",
       " 'Windsor University School of Medicine',\n",
       " 'Zetech College',\n",
       " 'CollegeAmerica, Denver',\n",
       " 'Institut National de la Recherche Scientifique, Université du Québec',\n",
       " 'Lubbock Christian University',\n",
       " 'Dar al Hekma College',\n",
       " 'Universitas Pembangunan Nasional \"Veteran\" East Java',\n",
       " 'North University of Baia Mare',\n",
       " 'Charisma University',\n",
       " 'Hogeschool voor Wetenschap en Kunst (VLEKHO), Brussel',\n",
       " 'National Chung Cheng University',\n",
       " 'Technological University (Magway)',\n",
       " 'China USA Business University',\n",
       " 'Norwegian School of Management BI',\n",
       " 'China USA Business University',\n",
       " 'University \"Petre Andrei\" Iasi',\n",
       " 'Harris-Stowe State University',\n",
       " 'University of Wisconsin - River Falls',\n",
       " 'Campbell University']"
      ]
     },
     "execution_count": 70,
     "metadata": {},
     "output_type": "execute_result"
    }
   ],
   "source": [
    "online_samples_employee_education =\\\n",
    "    df_combined[df_combined['sales_channel'] == 'Online']['employee_education'].sample(20, random_state=42)\n",
    "\n",
    "online_samples_employee_education.tolist()"
   ]
  },
  {
   "cell_type": "code",
   "execution_count": 71,
   "id": "8e005243",
   "metadata": {},
   "outputs": [],
   "source": [
    "# ok, it also looks like it is quite a random list of places to study..."
   ]
  },
  {
   "cell_type": "markdown",
   "id": "2e8429af",
   "metadata": {},
   "source": [
    "#### 30. store_state"
   ]
  },
  {
   "cell_type": "code",
   "execution_count": 72,
   "id": "b084b472",
   "metadata": {},
   "outputs": [],
   "source": [
    "# We do know this column exits in the offline part of the data, we can't fill the offline part with any values\n",
    "# we'll just take a look at a few examples and we'll use this column for 'customer_state' column to fill missing data\n",
    "# for the offline part of it"
   ]
  },
  {
   "cell_type": "code",
   "execution_count": 73,
   "id": "a5274db2",
   "metadata": {},
   "outputs": [
    {
     "data": {
      "text/plain": [
       "['AL',\n",
       " 'TX',\n",
       " 'FL',\n",
       " 'NV',\n",
       " 'UT',\n",
       " 'MT',\n",
       " 'OH',\n",
       " 'MI',\n",
       " 'VA',\n",
       " 'NY',\n",
       " 'IN',\n",
       " 'CA',\n",
       " 'VA',\n",
       " 'LA',\n",
       " 'OH',\n",
       " 'OH',\n",
       " 'CA',\n",
       " 'IL',\n",
       " 'NV',\n",
       " 'VA']"
      ]
     },
     "execution_count": 73,
     "metadata": {},
     "output_type": "execute_result"
    }
   ],
   "source": [
    "online_samples_store_state =\\\n",
    "    df_combined[df_combined['sales_channel'] == 'Offline']['store_state'].sample(20, random_state=42)\n",
    "\n",
    "online_samples_store_state.tolist()"
   ]
  },
  {
   "cell_type": "markdown",
   "id": "772c2d1c",
   "metadata": {},
   "source": [
    "#### 31. store_city"
   ]
  },
  {
   "cell_type": "code",
   "execution_count": 74,
   "id": "12fa05d4",
   "metadata": {},
   "outputs": [],
   "source": [
    "# We do know this column exits in the offline part of the data, we can't fill the offline part with any values\n",
    "# we'll just take a look at a few examples and we'll use this column for 'customer_city' column to fill missing data\n",
    "# for the offline part of it"
   ]
  },
  {
   "cell_type": "code",
   "execution_count": 75,
   "id": "1e3a85d6",
   "metadata": {},
   "outputs": [
    {
     "data": {
      "text/plain": [
       "['Mobile',\n",
       " 'Dallas',\n",
       " 'Orlando',\n",
       " 'Reno',\n",
       " 'Salt Lake City',\n",
       " 'Helena',\n",
       " 'Cincinnati',\n",
       " 'Lansing',\n",
       " 'Manassas',\n",
       " 'Rochester',\n",
       " 'Anderson',\n",
       " 'San Bernardino',\n",
       " 'Manassas',\n",
       " 'Shreveport',\n",
       " 'Cleveland',\n",
       " 'Cincinnati',\n",
       " 'Redwood City',\n",
       " 'Peoria',\n",
       " 'Reno',\n",
       " 'Manassas']"
      ]
     },
     "execution_count": 75,
     "metadata": {},
     "output_type": "execute_result"
    }
   ],
   "source": [
    "online_samples_store_city =\\\n",
    "    df_combined[df_combined['sales_channel'] == 'Offline']['store_city'].sample(20, random_state=42)\n",
    "\n",
    "online_samples_store_city.tolist()"
   ]
  },
  {
   "cell_type": "markdown",
   "id": "f9b7b0c3",
   "metadata": {},
   "source": [
    "#### 32. supplier"
   ]
  },
  {
   "cell_type": "code",
   "execution_count": 76,
   "id": "9016d00e",
   "metadata": {},
   "outputs": [],
   "source": [
    "# this is an interesting column. It didn't exist in the online part of the data, offline only.\n",
    "# It should be checked if there are certain suppliers for certain brands or some other dependency or any other insight"
   ]
  },
  {
   "cell_type": "markdown",
   "id": "43fa0bdd",
   "metadata": {},
   "source": [
    "##### 32.1 checking suppliers by brand"
   ]
  },
  {
   "cell_type": "code",
   "execution_count": 77,
   "id": "e20b0b72",
   "metadata": {},
   "outputs": [
    {
     "data": {
      "text/html": [
       "<div>\n",
       "<style scoped>\n",
       "    .dataframe tbody tr th:only-of-type {\n",
       "        vertical-align: middle;\n",
       "    }\n",
       "\n",
       "    .dataframe tbody tr th {\n",
       "        vertical-align: top;\n",
       "    }\n",
       "\n",
       "    .dataframe thead th {\n",
       "        text-align: right;\n",
       "    }\n",
       "</style>\n",
       "<table border=\"1\" class=\"dataframe\">\n",
       "  <thead>\n",
       "    <tr style=\"text-align: right;\">\n",
       "      <th></th>\n",
       "      <th></th>\n",
       "      <th>count</th>\n",
       "    </tr>\n",
       "    <tr>\n",
       "      <th>sales_channel</th>\n",
       "      <th>supplier</th>\n",
       "      <th></th>\n",
       "    </tr>\n",
       "  </thead>\n",
       "  <tbody>\n",
       "    <tr>\n",
       "      <th rowspan=\"34\" valign=\"top\">Offline</th>\n",
       "      <th>ANTA Sports Products Ltd.</th>\n",
       "      <td>14253</td>\n",
       "    </tr>\n",
       "    <tr>\n",
       "      <th>BRG Sports Inc.</th>\n",
       "      <td>28695</td>\n",
       "    </tr>\n",
       "    <tr>\n",
       "      <th>Balistreri Inc.</th>\n",
       "      <td>14368</td>\n",
       "    </tr>\n",
       "    <tr>\n",
       "      <th>Certor Sports LLC</th>\n",
       "      <td>14130</td>\n",
       "    </tr>\n",
       "    <tr>\n",
       "      <th>EP Sports</th>\n",
       "      <td>14399</td>\n",
       "    </tr>\n",
       "    <tr>\n",
       "      <th>EZ GARD Industries Inc.</th>\n",
       "      <td>14317</td>\n",
       "    </tr>\n",
       "    <tr>\n",
       "      <th>Fanatics Retail Group North LLC</th>\n",
       "      <td>14439</td>\n",
       "    </tr>\n",
       "    <tr>\n",
       "      <th>Forelle Inc.</th>\n",
       "      <td>14253</td>\n",
       "    </tr>\n",
       "    <tr>\n",
       "      <th>Franklin Sports</th>\n",
       "      <td>14246</td>\n",
       "    </tr>\n",
       "    <tr>\n",
       "      <th>Grady and Sons</th>\n",
       "      <td>14181</td>\n",
       "    </tr>\n",
       "    <tr>\n",
       "      <th>Grip Boost</th>\n",
       "      <td>14322</td>\n",
       "    </tr>\n",
       "    <tr>\n",
       "      <th>Haley Group</th>\n",
       "      <td>14336</td>\n",
       "    </tr>\n",
       "    <tr>\n",
       "      <th>Halvorson Group</th>\n",
       "      <td>14177</td>\n",
       "    </tr>\n",
       "    <tr>\n",
       "      <th>Hermann-Donnelly</th>\n",
       "      <td>14285</td>\n",
       "    </tr>\n",
       "    <tr>\n",
       "      <th>Hintz Group</th>\n",
       "      <td>14124</td>\n",
       "    </tr>\n",
       "    <tr>\n",
       "      <th>Howell LLC</th>\n",
       "      <td>14207</td>\n",
       "    </tr>\n",
       "    <tr>\n",
       "      <th>King Inc.</th>\n",
       "      <td>14575</td>\n",
       "    </tr>\n",
       "    <tr>\n",
       "      <th>Krausko LLC</th>\n",
       "      <td>14370</td>\n",
       "    </tr>\n",
       "    <tr>\n",
       "      <th>Lesch Inc</th>\n",
       "      <td>14291</td>\n",
       "    </tr>\n",
       "    <tr>\n",
       "      <th>McLaughlin LLC</th>\n",
       "      <td>14377</td>\n",
       "    </tr>\n",
       "    <tr>\n",
       "      <th>Mohr-Rutherford</th>\n",
       "      <td>14460</td>\n",
       "    </tr>\n",
       "    <tr>\n",
       "      <th>NFL Properties LLC</th>\n",
       "      <td>14290</td>\n",
       "    </tr>\n",
       "    <tr>\n",
       "      <th>Nader Group</th>\n",
       "      <td>14278</td>\n",
       "    </tr>\n",
       "    <tr>\n",
       "      <th>Nerion Athletics Group</th>\n",
       "      <td>14241</td>\n",
       "    </tr>\n",
       "    <tr>\n",
       "      <th>Performance Team Sports LLC</th>\n",
       "      <td>14581</td>\n",
       "    </tr>\n",
       "    <tr>\n",
       "      <th>Q Tech General Trading LLC</th>\n",
       "      <td>14263</td>\n",
       "    </tr>\n",
       "    <tr>\n",
       "      <th>Schroeder LLC</th>\n",
       "      <td>14348</td>\n",
       "    </tr>\n",
       "    <tr>\n",
       "      <th>Teamzone LLC</th>\n",
       "      <td>14439</td>\n",
       "    </tr>\n",
       "    <tr>\n",
       "      <th>Turner Inc</th>\n",
       "      <td>14414</td>\n",
       "    </tr>\n",
       "    <tr>\n",
       "      <th>VOIT Corp.</th>\n",
       "      <td>14465</td>\n",
       "    </tr>\n",
       "    <tr>\n",
       "      <th>Waelchi LLC</th>\n",
       "      <td>14186</td>\n",
       "    </tr>\n",
       "    <tr>\n",
       "      <th>Walter-Sipes</th>\n",
       "      <td>14063</td>\n",
       "    </tr>\n",
       "    <tr>\n",
       "      <th>Wisoky Trade &amp; Play</th>\n",
       "      <td>14284</td>\n",
       "    </tr>\n",
       "    <tr>\n",
       "      <th>XTECH Protective Equipment LLC</th>\n",
       "      <td>14343</td>\n",
       "    </tr>\n",
       "  </tbody>\n",
       "</table>\n",
       "</div>"
      ],
      "text/plain": [
       "                                               count\n",
       "sales_channel supplier                              \n",
       "Offline       ANTA Sports Products Ltd.        14253\n",
       "              BRG Sports Inc.                  28695\n",
       "              Balistreri Inc.                  14368\n",
       "              Certor Sports LLC                14130\n",
       "              EP Sports                        14399\n",
       "              EZ GARD Industries Inc.          14317\n",
       "              Fanatics Retail Group North LLC  14439\n",
       "              Forelle Inc.                     14253\n",
       "              Franklin Sports                  14246\n",
       "              Grady and Sons                   14181\n",
       "              Grip Boost                       14322\n",
       "              Haley Group                      14336\n",
       "              Halvorson Group                  14177\n",
       "              Hermann-Donnelly                 14285\n",
       "              Hintz Group                      14124\n",
       "              Howell LLC                       14207\n",
       "              King Inc.                        14575\n",
       "              Krausko LLC                      14370\n",
       "              Lesch Inc                        14291\n",
       "              McLaughlin LLC                   14377\n",
       "              Mohr-Rutherford                  14460\n",
       "              NFL Properties LLC               14290\n",
       "              Nader Group                      14278\n",
       "              Nerion Athletics Group           14241\n",
       "              Performance Team Sports LLC      14581\n",
       "              Q Tech General Trading LLC       14263\n",
       "              Schroeder LLC                    14348\n",
       "              Teamzone LLC                     14439\n",
       "              Turner Inc                       14414\n",
       "              VOIT Corp.                       14465\n",
       "              Waelchi LLC                      14186\n",
       "              Walter-Sipes                     14063\n",
       "              Wisoky Trade & Play              14284\n",
       "              XTECH Protective Equipment LLC   14343"
      ]
     },
     "execution_count": 77,
     "metadata": {},
     "output_type": "execute_result"
    }
   ],
   "source": [
    "# Group by sales_channel and get supplier summary\n",
    "supplier_summary = df_combined.groupby(['sales_channel', 'supplier'])['supplier'].agg(['count'])\n",
    "\n",
    "supplier_summary"
   ]
  },
  {
   "cell_type": "code",
   "execution_count": 78,
   "id": "dcf79c27",
   "metadata": {},
   "outputs": [],
   "source": [
    "# so, we checked the 'brand_name' column. We saw, that every brand in online part of the data appears in the offline one\n",
    "# and vise versa. Now we need to check if there are 2 suppliers that supply the same brand of products"
   ]
  },
  {
   "cell_type": "code",
   "execution_count": 79,
   "id": "47b5939d",
   "metadata": {},
   "outputs": [
    {
     "data": {
      "text/html": [
       "<div>\n",
       "<style scoped>\n",
       "    .dataframe tbody tr th:only-of-type {\n",
       "        vertical-align: middle;\n",
       "    }\n",
       "\n",
       "    .dataframe tbody tr th {\n",
       "        vertical-align: top;\n",
       "    }\n",
       "\n",
       "    .dataframe thead th {\n",
       "        text-align: right;\n",
       "    }\n",
       "</style>\n",
       "<table border=\"1\" class=\"dataframe\">\n",
       "  <thead>\n",
       "    <tr style=\"text-align: right;\">\n",
       "      <th></th>\n",
       "      <th></th>\n",
       "      <th></th>\n",
       "      <th>count</th>\n",
       "    </tr>\n",
       "    <tr>\n",
       "      <th>sales_channel</th>\n",
       "      <th>supplier</th>\n",
       "      <th>brand_name</th>\n",
       "      <th></th>\n",
       "    </tr>\n",
       "  </thead>\n",
       "  <tbody>\n",
       "    <tr>\n",
       "      <th rowspan=\"11\" valign=\"top\">Offline</th>\n",
       "      <th rowspan=\"5\" valign=\"top\">ANTA Sports Products Ltd.</th>\n",
       "      <th>Adams</th>\n",
       "      <td>634</td>\n",
       "    </tr>\n",
       "    <tr>\n",
       "      <th>Adidas</th>\n",
       "      <td>327</td>\n",
       "    </tr>\n",
       "    <tr>\n",
       "      <th>All Star</th>\n",
       "      <td>310</td>\n",
       "    </tr>\n",
       "    <tr>\n",
       "      <th>Champro</th>\n",
       "      <td>101</td>\n",
       "    </tr>\n",
       "    <tr>\n",
       "      <th>Crep Protect</th>\n",
       "      <td>195</td>\n",
       "    </tr>\n",
       "    <tr>\n",
       "      <th>...</th>\n",
       "      <th>...</th>\n",
       "      <td>...</td>\n",
       "    </tr>\n",
       "    <tr>\n",
       "      <th rowspan=\"5\" valign=\"top\">XTECH Protective Equipment LLC</th>\n",
       "      <th>Under Armour</th>\n",
       "      <td>615</td>\n",
       "    </tr>\n",
       "    <tr>\n",
       "      <th>Vettex</th>\n",
       "      <td>52</td>\n",
       "    </tr>\n",
       "    <tr>\n",
       "      <th>Warrior Shield</th>\n",
       "      <td>60</td>\n",
       "    </tr>\n",
       "    <tr>\n",
       "      <th>Wilson</th>\n",
       "      <td>29</td>\n",
       "    </tr>\n",
       "    <tr>\n",
       "      <th>Xenith</th>\n",
       "      <td>316</td>\n",
       "    </tr>\n",
       "  </tbody>\n",
       "</table>\n",
       "<p>1054 rows × 1 columns</p>\n",
       "</div>"
      ],
      "text/plain": [
       "                                                             count\n",
       "sales_channel supplier                       brand_name           \n",
       "Offline       ANTA Sports Products Ltd.      Adams             634\n",
       "                                             Adidas            327\n",
       "                                             All Star          310\n",
       "                                             Champro           101\n",
       "                                             Crep Protect      195\n",
       "...                                                            ...\n",
       "              XTECH Protective Equipment LLC Under Armour      615\n",
       "                                             Vettex             52\n",
       "                                             Warrior Shield     60\n",
       "                                             Wilson             29\n",
       "                                             Xenith            316\n",
       "\n",
       "[1054 rows x 1 columns]"
      ]
     },
     "execution_count": 79,
     "metadata": {},
     "output_type": "execute_result"
    }
   ],
   "source": [
    "# Group by sales_channel and get supplier summary\n",
    "supplier_brand_summary = df_combined.groupby(['sales_channel', 'supplier', 'brand_name'])['supplier'].agg(['count'])\n",
    "\n",
    "supplier_brand_summary"
   ]
  },
  {
   "cell_type": "code",
   "execution_count": 80,
   "id": "1a489bca",
   "metadata": {},
   "outputs": [
    {
     "name": "stdout",
     "output_type": "stream",
     "text": [
      "Number of brands with multiple suppliers: 31\n",
      "Number of brands with unique suppliers: 0\n",
      "\n",
      "Sample brands with multiple suppliers:\n",
      "brand_name\n",
      "Adams           34\n",
      "Adidas          34\n",
      "All Star        34\n",
      "Champro         34\n",
      "Crep Protect    34\n",
      "Cutters         34\n",
      "Douglas         34\n",
      "Evoshield       34\n",
      "Forelle         34\n",
      "Franklin        34\n",
      "Name: supplier, dtype: int64\n"
     ]
    }
   ],
   "source": [
    "# Count the number of unique suppliers for each brand\n",
    "brand_supplier_counts = df_combined.groupby('brand_name')['supplier'].nunique()\n",
    "\n",
    "# Find brands that have multiple suppliers\n",
    "brands_with_multiple_suppliers = brand_supplier_counts[brand_supplier_counts > 1]\n",
    "\n",
    "# Find brands with unique suppliers only\n",
    "brands_with_unique_suppliers = brand_supplier_counts[brand_supplier_counts == 1]\n",
    "\n",
    "# Display results\n",
    "print(f\"Number of brands with multiple suppliers: {len(brands_with_multiple_suppliers)}\")\n",
    "print(f\"Number of brands with unique suppliers: {len(brands_with_unique_suppliers)}\")\n",
    "\n",
    "# Display some brands with multiple suppliers\n",
    "print(\"\\nSample brands with multiple suppliers:\")\n",
    "print(brands_with_multiple_suppliers.head(10))  # Display first 10 for readability\n"
   ]
  },
  {
   "cell_type": "code",
   "execution_count": 81,
   "id": "91e3e0b7",
   "metadata": {},
   "outputs": [],
   "source": [
    "# The conclusion is that different suppliers can supply similar brands, suppliers are not unique per brand."
   ]
  },
  {
   "cell_type": "markdown",
   "id": "008d4c2e",
   "metadata": {},
   "source": [
    "##### 32.2 Checking the uniqueness of suppliers per product."
   ]
  },
  {
   "cell_type": "code",
   "execution_count": 82,
   "id": "27ac6513",
   "metadata": {},
   "outputs": [],
   "source": [
    "# We want to understand if each supplier supplies specific products"
   ]
  },
  {
   "cell_type": "code",
   "execution_count": 83,
   "id": "e7711cd9",
   "metadata": {},
   "outputs": [
    {
     "name": "stdout",
     "output_type": "stream",
     "text": [
      "Number of products with multiple suppliers: 573\n",
      "Number of products with unique suppliers: 0\n",
      "\n",
      "Sample products with multiple suppliers:\n",
      "product\n",
      "3DX Jaw Guard Upgrade Set Lower jaw overlays         34\n",
      "3DX Jaw Guard Xenith                                 34\n",
      "Adams Chinstrap 4-point Lo (S) Gel25                 34\n",
      "Adams FBFM-NOPO                                      34\n",
      "Adams Hip Pad 3PC Set 1/2\" Vinyl High Rise (1206)    34\n",
      "Adams Hip Pad 3PC Slotted High Rise (1303)           34\n",
      "Adams Hip Pad Set 3PC Intermediate Snap-In (1326)    34\n",
      "Adams Spine Pad (1205)                               34\n",
      "Adams Spine Pad (1303)                               34\n",
      "Adams T-ANJOP-D                                      34\n",
      "Name: supplier, dtype: int64\n"
     ]
    }
   ],
   "source": [
    "# Count the number of unique suppliers for each product\n",
    "product_supplier_counts = df_combined.groupby('product')['supplier'].nunique()\n",
    "\n",
    "# Find products that have multiple suppliers\n",
    "products_with_multiple_suppliers = product_supplier_counts[product_supplier_counts > 1]\n",
    "\n",
    "# Find products with unique suppliers only\n",
    "products_with_unique_suppliers = product_supplier_counts[product_supplier_counts == 1]\n",
    "\n",
    "# Display results\n",
    "print(f\"Number of products with multiple suppliers: {len(products_with_multiple_suppliers)}\")\n",
    "print(f\"Number of products with unique suppliers: {len(products_with_unique_suppliers)}\")\n",
    "\n",
    "# Display some products with multiple suppliers\n",
    "print(\"\\nSample products with multiple suppliers:\")\n",
    "print(products_with_multiple_suppliers.head(10))  # Display first 10 for readability\n"
   ]
  },
  {
   "cell_type": "code",
   "execution_count": 84,
   "id": "474af308",
   "metadata": {},
   "outputs": [],
   "source": [
    "# so, we see that there are no products supplied by unique suppliers, which is quite interesting, but this is the data"
   ]
  },
  {
   "cell_type": "markdown",
   "id": "16c5ff71",
   "metadata": {},
   "source": [
    "### Conclusion:\n",
    "\n",
    "    - Unfortunately this column won't be much useful as it wasn't correctly populated"
   ]
  },
  {
   "cell_type": "markdown",
   "id": "c8a00db6",
   "metadata": {},
   "source": [
    "#### 33. store_street"
   ]
  },
  {
   "cell_type": "code",
   "execution_count": 85,
   "id": "b3637787",
   "metadata": {},
   "outputs": [],
   "source": [
    "# We do know this column exits in the offline part of the data, we can't fill the offline part with any values"
   ]
  },
  {
   "cell_type": "code",
   "execution_count": 86,
   "id": "38516785",
   "metadata": {},
   "outputs": [
    {
     "data": {
      "text/plain": [
       "['674 Westerfield Street',\n",
       " '146 Bobwhite Street',\n",
       " '9 Twin Pines Junction',\n",
       " '52 Grover Pass',\n",
       " '31338 Center Alley',\n",
       " '14315 Melby Park',\n",
       " '28 Basil Drive',\n",
       " '05227 Grasskamp Park',\n",
       " '4 Dawn Parkway',\n",
       " '88 Harbort Alley',\n",
       " '235 Cody Pass',\n",
       " '10 Hansons Hill',\n",
       " '4 Dawn Parkway',\n",
       " '47631 Lukken Circle',\n",
       " '059 Arizona Place',\n",
       " '28 Basil Drive',\n",
       " '5 Tennyson Way',\n",
       " '9559 Evergreen Alley',\n",
       " '52 Grover Pass',\n",
       " '4 Dawn Parkway']"
      ]
     },
     "execution_count": 86,
     "metadata": {},
     "output_type": "execute_result"
    }
   ],
   "source": [
    "offline_samples_store_street =\\\n",
    "    df_combined[df_combined['sales_channel'] == 'Offline']['store_street'].sample(20, random_state=42)\n",
    "\n",
    "offline_samples_store_street.tolist()"
   ]
  },
  {
   "cell_type": "code",
   "execution_count": 87,
   "id": "f560fbce",
   "metadata": {},
   "outputs": [
    {
     "data": {
      "text/plain": [
       "100"
      ]
     },
     "execution_count": 87,
     "metadata": {},
     "output_type": "execute_result"
    }
   ],
   "source": [
    "#so we have 100 unique stores\n",
    "df_combined[df_combined['sales_channel'] == 'Offline']['store_street'].nunique()"
   ]
  },
  {
   "cell_type": "markdown",
   "id": "81bd095c",
   "metadata": {},
   "source": [
    "#### 34. store_type"
   ]
  },
  {
   "cell_type": "code",
   "execution_count": 88,
   "id": "b5a06bdd",
   "metadata": {},
   "outputs": [],
   "source": [
    "# We do know this column exits in the offline part of the data, we can fill the online data with like 'online' or smth"
   ]
  },
  {
   "cell_type": "code",
   "execution_count": 89,
   "id": "ab5a2faf",
   "metadata": {},
   "outputs": [
    {
     "data": {
      "text/html": [
       "<div>\n",
       "<style scoped>\n",
       "    .dataframe tbody tr th:only-of-type {\n",
       "        vertical-align: middle;\n",
       "    }\n",
       "\n",
       "    .dataframe tbody tr th {\n",
       "        vertical-align: top;\n",
       "    }\n",
       "\n",
       "    .dataframe thead th {\n",
       "        text-align: right;\n",
       "    }\n",
       "</style>\n",
       "<table border=\"1\" class=\"dataframe\">\n",
       "  <thead>\n",
       "    <tr style=\"text-align: right;\">\n",
       "      <th></th>\n",
       "      <th></th>\n",
       "      <th>count</th>\n",
       "    </tr>\n",
       "    <tr>\n",
       "      <th>sales_channel</th>\n",
       "      <th>store_type</th>\n",
       "      <th></th>\n",
       "    </tr>\n",
       "  </thead>\n",
       "  <tbody>\n",
       "    <tr>\n",
       "      <th rowspan=\"4\" valign=\"top\">Offline</th>\n",
       "      <th>franchise</th>\n",
       "      <td>83593</td>\n",
       "    </tr>\n",
       "    <tr>\n",
       "      <th>megastore</th>\n",
       "      <td>129588</td>\n",
       "    </tr>\n",
       "    <tr>\n",
       "      <th>specialized</th>\n",
       "      <td>63662</td>\n",
       "    </tr>\n",
       "    <tr>\n",
       "      <th>superstore</th>\n",
       "      <td>224157</td>\n",
       "    </tr>\n",
       "  </tbody>\n",
       "</table>\n",
       "</div>"
      ],
      "text/plain": [
       "                            count\n",
       "sales_channel store_type         \n",
       "Offline       franchise     83593\n",
       "              megastore    129588\n",
       "              specialized   63662\n",
       "              superstore   224157"
      ]
     },
     "execution_count": 89,
     "metadata": {},
     "output_type": "execute_result"
    }
   ],
   "source": [
    "# Group by sales_channel and get store_type summary\n",
    "store_type_summary = df_combined.groupby(['sales_channel', 'store_type'])['store_type'].agg(['count'])\n",
    "\n",
    "store_type_summary"
   ]
  },
  {
   "cell_type": "markdown",
   "id": "6c9788d4",
   "metadata": {},
   "source": [
    "#### 35. sales_channel"
   ]
  },
  {
   "cell_type": "code",
   "execution_count": 90,
   "id": "704aa554",
   "metadata": {},
   "outputs": [
    {
     "data": {
      "text/html": [
       "<div>\n",
       "<style scoped>\n",
       "    .dataframe tbody tr th:only-of-type {\n",
       "        vertical-align: middle;\n",
       "    }\n",
       "\n",
       "    .dataframe tbody tr th {\n",
       "        vertical-align: top;\n",
       "    }\n",
       "\n",
       "    .dataframe thead th {\n",
       "        text-align: right;\n",
       "    }\n",
       "</style>\n",
       "<table border=\"1\" class=\"dataframe\">\n",
       "  <thead>\n",
       "    <tr style=\"text-align: right;\">\n",
       "      <th></th>\n",
       "      <th>count</th>\n",
       "    </tr>\n",
       "    <tr>\n",
       "      <th>sales_channel</th>\n",
       "      <th></th>\n",
       "    </tr>\n",
       "  </thead>\n",
       "  <tbody>\n",
       "    <tr>\n",
       "      <th>Offline</th>\n",
       "      <td>501000</td>\n",
       "    </tr>\n",
       "    <tr>\n",
       "      <th>Online</th>\n",
       "      <td>533000</td>\n",
       "    </tr>\n",
       "  </tbody>\n",
       "</table>\n",
       "</div>"
      ],
      "text/plain": [
       "                count\n",
       "sales_channel        \n",
       "Offline        501000\n",
       "Online         533000"
      ]
     },
     "execution_count": 90,
     "metadata": {},
     "output_type": "execute_result"
    }
   ],
   "source": [
    "# Group by sales_channel and get sales_channel count\n",
    "sales_channel_summary = df_combined.groupby('sales_channel')['sales_channel'].agg(['count'])\n",
    "\n",
    "sales_channel_summary"
   ]
  },
  {
   "cell_type": "code",
   "execution_count": 91,
   "id": "fefb4576",
   "metadata": {},
   "outputs": [
    {
     "name": "stdout",
     "output_type": "stream",
     "text": [
      "Number of products with multiple brands: 1\n",
      "Number of products with a unique brand: 572\n",
      "\n",
      "Sample products with multiple brands:\n",
      "product\n",
      "Eye Black Stickers    2\n",
      "Name: brand_name, dtype: int64\n"
     ]
    }
   ],
   "source": [
    "# Count the number of unique brands for each product\n",
    "product_brand_counts = df_combined.groupby('product')['brand_name'].nunique()\n",
    "\n",
    "# Find products that have multiple brands\n",
    "products_with_multiple_brands = product_brand_counts[product_brand_counts > 1]\n",
    "\n",
    "# Find products with unique brand only\n",
    "products_with_unique_brand = product_brand_counts[product_brand_counts == 1]\n",
    "\n",
    "# Display results\n",
    "print(f\"Number of products with multiple brands: {len(products_with_multiple_brands)}\")\n",
    "print(f\"Number of products with a unique brand: {len(products_with_unique_brand)}\")\n",
    "\n",
    "# Display some products with multiple brands\n",
    "print(\"\\nSample products with multiple brands:\")\n",
    "print(products_with_multiple_brands.head(10))\n"
   ]
  },
  {
   "cell_type": "code",
   "execution_count": 92,
   "id": "f035cddb",
   "metadata": {},
   "outputs": [
    {
     "data": {
      "text/html": [
       "<div>\n",
       "<style scoped>\n",
       "    .dataframe tbody tr th:only-of-type {\n",
       "        vertical-align: middle;\n",
       "    }\n",
       "\n",
       "    .dataframe tbody tr th {\n",
       "        vertical-align: top;\n",
       "    }\n",
       "\n",
       "    .dataframe thead th {\n",
       "        text-align: right;\n",
       "    }\n",
       "</style>\n",
       "<table border=\"1\" class=\"dataframe\">\n",
       "  <thead>\n",
       "    <tr style=\"text-align: right;\">\n",
       "      <th></th>\n",
       "      <th>tmstmp</th>\n",
       "      <th>product_category</th>\n",
       "      <th>product_subcategory</th>\n",
       "      <th>product</th>\n",
       "      <th>brand_name</th>\n",
       "      <th>product_price</th>\n",
       "      <th>quantity_sold</th>\n",
       "      <th>total_amount</th>\n",
       "      <th>total_costs</th>\n",
       "      <th>payment_type</th>\n",
       "      <th>shipping_method</th>\n",
       "      <th>coupon_discount</th>\n",
       "      <th>customer_firstname</th>\n",
       "      <th>customer_lastname</th>\n",
       "      <th>customer_gender</th>\n",
       "      <th>customer_age</th>\n",
       "      <th>customer_shirtsize</th>\n",
       "      <th>customer_email</th>\n",
       "      <th>customer_phone</th>\n",
       "      <th>customer_address</th>\n",
       "      <th>address_details</th>\n",
       "      <th>customer_city</th>\n",
       "      <th>customer_state</th>\n",
       "      <th>store_website</th>\n",
       "      <th>employee_firstname</th>\n",
       "      <th>employee_lastname</th>\n",
       "      <th>employee_email</th>\n",
       "      <th>employee_skill</th>\n",
       "      <th>employee_education</th>\n",
       "      <th>store_street</th>\n",
       "      <th>store_state</th>\n",
       "      <th>store_type</th>\n",
       "      <th>store_city</th>\n",
       "      <th>supplier</th>\n",
       "      <th>sales_channel</th>\n",
       "    </tr>\n",
       "  </thead>\n",
       "  <tbody>\n",
       "    <tr>\n",
       "      <th>390</th>\n",
       "      <td>2022-05-31 12:58:50</td>\n",
       "      <td>Accessories</td>\n",
       "      <td>Eye Black</td>\n",
       "      <td>Eye Black Stickers</td>\n",
       "      <td>Franklin</td>\n",
       "      <td>10.36</td>\n",
       "      <td>6</td>\n",
       "      <td>62.16</td>\n",
       "      <td>9.30</td>\n",
       "      <td>credit card</td>\n",
       "      <td>dpd</td>\n",
       "      <td>0</td>\n",
       "      <td>Kristoffer</td>\n",
       "      <td>Demeter</td>\n",
       "      <td>Male</td>\n",
       "      <td>18</td>\n",
       "      <td>L</td>\n",
       "      <td>kdemeterau@typepad.com</td>\n",
       "      <td>7274164798</td>\n",
       "      <td>5928 Ramsey Center</td>\n",
       "      <td>Room 439</td>\n",
       "      <td>Saint Petersburg</td>\n",
       "      <td>FL</td>\n",
       "      <td>snaproutesports.com</td>\n",
       "      <td>Burk</td>\n",
       "      <td>Hauch</td>\n",
       "      <td>ghonsch2q@bing.com</td>\n",
       "      <td>LLVM</td>\n",
       "      <td>Virginia Military Institute</td>\n",
       "      <td>None</td>\n",
       "      <td>None</td>\n",
       "      <td>None</td>\n",
       "      <td>None</td>\n",
       "      <td>None</td>\n",
       "      <td>Online</td>\n",
       "    </tr>\n",
       "    <tr>\n",
       "      <th>845</th>\n",
       "      <td>2022-03-02 17:54:01</td>\n",
       "      <td>Accessories</td>\n",
       "      <td>Eye Black</td>\n",
       "      <td>Eye Black Stickers</td>\n",
       "      <td>Rawlings</td>\n",
       "      <td>6.02</td>\n",
       "      <td>9</td>\n",
       "      <td>54.18</td>\n",
       "      <td>30.42</td>\n",
       "      <td>bank wire</td>\n",
       "      <td>DSV</td>\n",
       "      <td>0</td>\n",
       "      <td>Ginny</td>\n",
       "      <td>Poston</td>\n",
       "      <td>Female</td>\n",
       "      <td>25</td>\n",
       "      <td>M</td>\n",
       "      <td>gpostonnh@si.edu</td>\n",
       "      <td>4155245104</td>\n",
       "      <td>238 Hooker Court</td>\n",
       "      <td>12th Floor</td>\n",
       "      <td>San Francisco</td>\n",
       "      <td>CA</td>\n",
       "      <td>passplaypalace.com</td>\n",
       "      <td>Nealson</td>\n",
       "      <td>Cooch</td>\n",
       "      <td>mlongford1n@posterous.com</td>\n",
       "      <td>KPI Implementation</td>\n",
       "      <td>Universidad Nacional de Entre Ríos</td>\n",
       "      <td>None</td>\n",
       "      <td>None</td>\n",
       "      <td>None</td>\n",
       "      <td>None</td>\n",
       "      <td>None</td>\n",
       "      <td>Online</td>\n",
       "    </tr>\n",
       "    <tr>\n",
       "      <th>978</th>\n",
       "      <td>2022-08-25 09:26:08</td>\n",
       "      <td>Accessories</td>\n",
       "      <td>Eye Black</td>\n",
       "      <td>Eye Black Stickers</td>\n",
       "      <td>Franklin</td>\n",
       "      <td>2.45</td>\n",
       "      <td>2</td>\n",
       "      <td>4.90</td>\n",
       "      <td>8.42</td>\n",
       "      <td>PayPal</td>\n",
       "      <td>USPS</td>\n",
       "      <td>0</td>\n",
       "      <td>Cosetta</td>\n",
       "      <td>Vasilischev</td>\n",
       "      <td>Female</td>\n",
       "      <td>39</td>\n",
       "      <td>3XL</td>\n",
       "      <td>cvasilischevr6@storify.com</td>\n",
       "      <td>8167010404</td>\n",
       "      <td>14157 Kropf Hill</td>\n",
       "      <td>10th Floor</td>\n",
       "      <td>Lees Summit</td>\n",
       "      <td>MO</td>\n",
       "      <td>endzoneemporium.com</td>\n",
       "      <td>Ardella</td>\n",
       "      <td>Edler</td>\n",
       "      <td>aliesj@freewebs.com</td>\n",
       "      <td>Simulations</td>\n",
       "      <td>Yonok University</td>\n",
       "      <td>None</td>\n",
       "      <td>None</td>\n",
       "      <td>None</td>\n",
       "      <td>None</td>\n",
       "      <td>None</td>\n",
       "      <td>Online</td>\n",
       "    </tr>\n",
       "    <tr>\n",
       "      <th>1412</th>\n",
       "      <td>2022-09-18 18:58:27</td>\n",
       "      <td>Accessories</td>\n",
       "      <td>Eye Black</td>\n",
       "      <td>Eye Black Stickers</td>\n",
       "      <td>Rawlings</td>\n",
       "      <td>6.92</td>\n",
       "      <td>10</td>\n",
       "      <td>62.28</td>\n",
       "      <td>14.90</td>\n",
       "      <td>cash</td>\n",
       "      <td>dpd</td>\n",
       "      <td>10</td>\n",
       "      <td>Cathryn</td>\n",
       "      <td>Beetham</td>\n",
       "      <td>Female</td>\n",
       "      <td>18</td>\n",
       "      <td>M</td>\n",
       "      <td>cbeethambg@1688.com</td>\n",
       "      <td>3179717343</td>\n",
       "      <td>7391 Warrior Street</td>\n",
       "      <td>15th Floor</td>\n",
       "      <td>Indianapolis</td>\n",
       "      <td>IN</td>\n",
       "      <td>quarterbackquarters.com</td>\n",
       "      <td>Kerry</td>\n",
       "      <td>Guynemer</td>\n",
       "      <td>mhansford5t@forbes.com</td>\n",
       "      <td>CFD</td>\n",
       "      <td>Universität des Saarlandes</td>\n",
       "      <td>None</td>\n",
       "      <td>None</td>\n",
       "      <td>None</td>\n",
       "      <td>None</td>\n",
       "      <td>None</td>\n",
       "      <td>Online</td>\n",
       "    </tr>\n",
       "    <tr>\n",
       "      <th>1996</th>\n",
       "      <td>2022-04-05 20:38:55</td>\n",
       "      <td>Accessories</td>\n",
       "      <td>Eye Black</td>\n",
       "      <td>Eye Black Stickers</td>\n",
       "      <td>Franklin</td>\n",
       "      <td>10.24</td>\n",
       "      <td>1</td>\n",
       "      <td>10.24</td>\n",
       "      <td>1.93</td>\n",
       "      <td>cash</td>\n",
       "      <td>dpd</td>\n",
       "      <td>0</td>\n",
       "      <td>Birdie</td>\n",
       "      <td>Houldin</td>\n",
       "      <td>Female</td>\n",
       "      <td>22</td>\n",
       "      <td>XS</td>\n",
       "      <td>bhouldinro@nba.com</td>\n",
       "      <td>2256640670</td>\n",
       "      <td>880 Melody Drive</td>\n",
       "      <td>PO Box 42533</td>\n",
       "      <td>Baton Rouge</td>\n",
       "      <td>LA</td>\n",
       "      <td>fieldforgefashions.com</td>\n",
       "      <td>Mair</td>\n",
       "      <td>Blacklidge</td>\n",
       "      <td>gcoastq@dailymotion.com</td>\n",
       "      <td>ABS</td>\n",
       "      <td>European Carolus Magnus University</td>\n",
       "      <td>None</td>\n",
       "      <td>None</td>\n",
       "      <td>None</td>\n",
       "      <td>None</td>\n",
       "      <td>None</td>\n",
       "      <td>Online</td>\n",
       "    </tr>\n",
       "    <tr>\n",
       "      <th>...</th>\n",
       "      <td>...</td>\n",
       "      <td>...</td>\n",
       "      <td>...</td>\n",
       "      <td>...</td>\n",
       "      <td>...</td>\n",
       "      <td>...</td>\n",
       "      <td>...</td>\n",
       "      <td>...</td>\n",
       "      <td>...</td>\n",
       "      <td>...</td>\n",
       "      <td>...</td>\n",
       "      <td>...</td>\n",
       "      <td>...</td>\n",
       "      <td>...</td>\n",
       "      <td>...</td>\n",
       "      <td>...</td>\n",
       "      <td>...</td>\n",
       "      <td>...</td>\n",
       "      <td>...</td>\n",
       "      <td>...</td>\n",
       "      <td>...</td>\n",
       "      <td>...</td>\n",
       "      <td>...</td>\n",
       "      <td>...</td>\n",
       "      <td>...</td>\n",
       "      <td>...</td>\n",
       "      <td>...</td>\n",
       "      <td>...</td>\n",
       "      <td>...</td>\n",
       "      <td>...</td>\n",
       "      <td>...</td>\n",
       "      <td>...</td>\n",
       "      <td>...</td>\n",
       "      <td>...</td>\n",
       "      <td>...</td>\n",
       "    </tr>\n",
       "    <tr>\n",
       "      <th>1033385</th>\n",
       "      <td>2023-02-19 13:11:57</td>\n",
       "      <td>Accessories</td>\n",
       "      <td>Eye Black</td>\n",
       "      <td>Eye Black Stickers</td>\n",
       "      <td>Franklin</td>\n",
       "      <td>5.70</td>\n",
       "      <td>4</td>\n",
       "      <td>22.80</td>\n",
       "      <td>12.56</td>\n",
       "      <td>mobile payment</td>\n",
       "      <td>None</td>\n",
       "      <td>None</td>\n",
       "      <td>Chrisse</td>\n",
       "      <td>Lenthall</td>\n",
       "      <td>Male</td>\n",
       "      <td>None</td>\n",
       "      <td>None</td>\n",
       "      <td>clenthallap@livejournal.com</td>\n",
       "      <td>222-845-2506</td>\n",
       "      <td>None</td>\n",
       "      <td>None</td>\n",
       "      <td>None</td>\n",
       "      <td>None</td>\n",
       "      <td>None</td>\n",
       "      <td>None</td>\n",
       "      <td>None</td>\n",
       "      <td>None</td>\n",
       "      <td>None</td>\n",
       "      <td>None</td>\n",
       "      <td>46043 Golf Terrace</td>\n",
       "      <td>HI</td>\n",
       "      <td>megastore</td>\n",
       "      <td>Honolulu</td>\n",
       "      <td>Forelle Inc.</td>\n",
       "      <td>Offline</td>\n",
       "    </tr>\n",
       "    <tr>\n",
       "      <th>1033777</th>\n",
       "      <td>2023-12-16 06:33:58</td>\n",
       "      <td>Accessories</td>\n",
       "      <td>Eye Black</td>\n",
       "      <td>Eye Black Stickers</td>\n",
       "      <td>Rawlings</td>\n",
       "      <td>8.07</td>\n",
       "      <td>3</td>\n",
       "      <td>24.21</td>\n",
       "      <td>11.13</td>\n",
       "      <td>credit card</td>\n",
       "      <td>None</td>\n",
       "      <td>None</td>\n",
       "      <td>Riobard</td>\n",
       "      <td>Heinl</td>\n",
       "      <td>Genderfluid</td>\n",
       "      <td>None</td>\n",
       "      <td>None</td>\n",
       "      <td>rheinlll@xing.com</td>\n",
       "      <td>935-524-7865</td>\n",
       "      <td>None</td>\n",
       "      <td>None</td>\n",
       "      <td>None</td>\n",
       "      <td>None</td>\n",
       "      <td>None</td>\n",
       "      <td>None</td>\n",
       "      <td>None</td>\n",
       "      <td>None</td>\n",
       "      <td>None</td>\n",
       "      <td>None</td>\n",
       "      <td>7 Transport Court</td>\n",
       "      <td>FL</td>\n",
       "      <td>superstore</td>\n",
       "      <td>Clearwater</td>\n",
       "      <td>Grady and Sons</td>\n",
       "      <td>Offline</td>\n",
       "    </tr>\n",
       "    <tr>\n",
       "      <th>1033795</th>\n",
       "      <td>2022-10-26 23:50:33</td>\n",
       "      <td>Accessories</td>\n",
       "      <td>Eye Black</td>\n",
       "      <td>Eye Black Stickers</td>\n",
       "      <td>Franklin</td>\n",
       "      <td>8.52</td>\n",
       "      <td>7</td>\n",
       "      <td>59.64</td>\n",
       "      <td>25.27</td>\n",
       "      <td>debit card</td>\n",
       "      <td>None</td>\n",
       "      <td>None</td>\n",
       "      <td>Kelci</td>\n",
       "      <td>Thewys</td>\n",
       "      <td>Female</td>\n",
       "      <td>None</td>\n",
       "      <td>None</td>\n",
       "      <td>kthewysm3@woothemes.com</td>\n",
       "      <td>957-723-9365</td>\n",
       "      <td>None</td>\n",
       "      <td>None</td>\n",
       "      <td>None</td>\n",
       "      <td>None</td>\n",
       "      <td>None</td>\n",
       "      <td>None</td>\n",
       "      <td>None</td>\n",
       "      <td>None</td>\n",
       "      <td>None</td>\n",
       "      <td>None</td>\n",
       "      <td>247 Mariners Cove Alley</td>\n",
       "      <td>TX</td>\n",
       "      <td>superstore</td>\n",
       "      <td>Irving</td>\n",
       "      <td>VOIT Corp.</td>\n",
       "      <td>Offline</td>\n",
       "    </tr>\n",
       "    <tr>\n",
       "      <th>1033887</th>\n",
       "      <td>2023-07-07 23:02:04</td>\n",
       "      <td>Accessories</td>\n",
       "      <td>Eye Black</td>\n",
       "      <td>Eye Black Stickers</td>\n",
       "      <td>Franklin</td>\n",
       "      <td>3.33</td>\n",
       "      <td>8</td>\n",
       "      <td>26.64</td>\n",
       "      <td>31.52</td>\n",
       "      <td>cash</td>\n",
       "      <td>None</td>\n",
       "      <td>None</td>\n",
       "      <td>Enrichetta</td>\n",
       "      <td>Klainer</td>\n",
       "      <td>Female</td>\n",
       "      <td>None</td>\n",
       "      <td>None</td>\n",
       "      <td>eklaineron@google.fr</td>\n",
       "      <td>706-134-8480</td>\n",
       "      <td>None</td>\n",
       "      <td>None</td>\n",
       "      <td>None</td>\n",
       "      <td>None</td>\n",
       "      <td>None</td>\n",
       "      <td>None</td>\n",
       "      <td>None</td>\n",
       "      <td>None</td>\n",
       "      <td>None</td>\n",
       "      <td>None</td>\n",
       "      <td>442 Charing Cross Terrace</td>\n",
       "      <td>CA</td>\n",
       "      <td>megastore</td>\n",
       "      <td>Mountain View</td>\n",
       "      <td>XTECH Protective Equipment LLC</td>\n",
       "      <td>Offline</td>\n",
       "    </tr>\n",
       "    <tr>\n",
       "      <th>1033972</th>\n",
       "      <td>2023-06-13 15:48:53</td>\n",
       "      <td>Accessories</td>\n",
       "      <td>Eye Black</td>\n",
       "      <td>Eye Black Stickers</td>\n",
       "      <td>Rawlings</td>\n",
       "      <td>9.04</td>\n",
       "      <td>9</td>\n",
       "      <td>81.36</td>\n",
       "      <td>34.92</td>\n",
       "      <td>mobile payment</td>\n",
       "      <td>None</td>\n",
       "      <td>None</td>\n",
       "      <td>Barbie</td>\n",
       "      <td>Lyptratt</td>\n",
       "      <td>Genderfluid</td>\n",
       "      <td>None</td>\n",
       "      <td>None</td>\n",
       "      <td>blyptrattr0@si.edu</td>\n",
       "      <td>831-449-3297</td>\n",
       "      <td>None</td>\n",
       "      <td>None</td>\n",
       "      <td>None</td>\n",
       "      <td>None</td>\n",
       "      <td>None</td>\n",
       "      <td>None</td>\n",
       "      <td>None</td>\n",
       "      <td>None</td>\n",
       "      <td>None</td>\n",
       "      <td>None</td>\n",
       "      <td>7 Evergreen Park</td>\n",
       "      <td>TX</td>\n",
       "      <td>megastore</td>\n",
       "      <td>Dallas</td>\n",
       "      <td>Haley Group</td>\n",
       "      <td>Offline</td>\n",
       "    </tr>\n",
       "  </tbody>\n",
       "</table>\n",
       "<p>3557 rows × 35 columns</p>\n",
       "</div>"
      ],
      "text/plain": [
       "                     tmstmp product_category product_subcategory  \\\n",
       "390     2022-05-31 12:58:50      Accessories           Eye Black   \n",
       "845     2022-03-02 17:54:01      Accessories           Eye Black   \n",
       "978     2022-08-25 09:26:08      Accessories           Eye Black   \n",
       "1412    2022-09-18 18:58:27      Accessories           Eye Black   \n",
       "1996    2022-04-05 20:38:55      Accessories           Eye Black   \n",
       "...                     ...              ...                 ...   \n",
       "1033385 2023-02-19 13:11:57      Accessories           Eye Black   \n",
       "1033777 2023-12-16 06:33:58      Accessories           Eye Black   \n",
       "1033795 2022-10-26 23:50:33      Accessories           Eye Black   \n",
       "1033887 2023-07-07 23:02:04      Accessories           Eye Black   \n",
       "1033972 2023-06-13 15:48:53      Accessories           Eye Black   \n",
       "\n",
       "                    product brand_name  product_price  quantity_sold  \\\n",
       "390      Eye Black Stickers   Franklin          10.36              6   \n",
       "845      Eye Black Stickers   Rawlings           6.02              9   \n",
       "978      Eye Black Stickers   Franklin           2.45              2   \n",
       "1412     Eye Black Stickers   Rawlings           6.92             10   \n",
       "1996     Eye Black Stickers   Franklin          10.24              1   \n",
       "...                     ...        ...            ...            ...   \n",
       "1033385  Eye Black Stickers   Franklin           5.70              4   \n",
       "1033777  Eye Black Stickers   Rawlings           8.07              3   \n",
       "1033795  Eye Black Stickers   Franklin           8.52              7   \n",
       "1033887  Eye Black Stickers   Franklin           3.33              8   \n",
       "1033972  Eye Black Stickers   Rawlings           9.04              9   \n",
       "\n",
       "         total_amount  total_costs    payment_type shipping_method  \\\n",
       "390             62.16         9.30     credit card             dpd   \n",
       "845             54.18        30.42       bank wire             DSV   \n",
       "978              4.90         8.42          PayPal            USPS   \n",
       "1412            62.28        14.90            cash             dpd   \n",
       "1996            10.24         1.93            cash             dpd   \n",
       "...               ...          ...             ...             ...   \n",
       "1033385         22.80        12.56  mobile payment            None   \n",
       "1033777         24.21        11.13     credit card            None   \n",
       "1033795         59.64        25.27      debit card            None   \n",
       "1033887         26.64        31.52            cash            None   \n",
       "1033972         81.36        34.92  mobile payment            None   \n",
       "\n",
       "        coupon_discount customer_firstname customer_lastname customer_gender  \\\n",
       "390                   0         Kristoffer           Demeter            Male   \n",
       "845                   0              Ginny            Poston          Female   \n",
       "978                   0            Cosetta       Vasilischev          Female   \n",
       "1412                 10            Cathryn           Beetham          Female   \n",
       "1996                  0             Birdie           Houldin          Female   \n",
       "...                 ...                ...               ...             ...   \n",
       "1033385            None            Chrisse          Lenthall            Male   \n",
       "1033777            None            Riobard             Heinl     Genderfluid   \n",
       "1033795            None              Kelci            Thewys          Female   \n",
       "1033887            None         Enrichetta           Klainer          Female   \n",
       "1033972            None             Barbie          Lyptratt     Genderfluid   \n",
       "\n",
       "        customer_age customer_shirtsize               customer_email  \\\n",
       "390               18                  L       kdemeterau@typepad.com   \n",
       "845               25                  M             gpostonnh@si.edu   \n",
       "978               39                3XL   cvasilischevr6@storify.com   \n",
       "1412              18                  M          cbeethambg@1688.com   \n",
       "1996              22                 XS           bhouldinro@nba.com   \n",
       "...              ...                ...                          ...   \n",
       "1033385         None               None  clenthallap@livejournal.com   \n",
       "1033777         None               None            rheinlll@xing.com   \n",
       "1033795         None               None      kthewysm3@woothemes.com   \n",
       "1033887         None               None         eklaineron@google.fr   \n",
       "1033972         None               None           blyptrattr0@si.edu   \n",
       "\n",
       "        customer_phone     customer_address address_details     customer_city  \\\n",
       "390         7274164798   5928 Ramsey Center        Room 439  Saint Petersburg   \n",
       "845         4155245104     238 Hooker Court      12th Floor     San Francisco   \n",
       "978         8167010404     14157 Kropf Hill      10th Floor       Lees Summit   \n",
       "1412        3179717343  7391 Warrior Street      15th Floor      Indianapolis   \n",
       "1996        2256640670     880 Melody Drive    PO Box 42533       Baton Rouge   \n",
       "...                ...                  ...             ...               ...   \n",
       "1033385   222-845-2506                 None            None              None   \n",
       "1033777   935-524-7865                 None            None              None   \n",
       "1033795   957-723-9365                 None            None              None   \n",
       "1033887   706-134-8480                 None            None              None   \n",
       "1033972   831-449-3297                 None            None              None   \n",
       "\n",
       "        customer_state            store_website employee_firstname  \\\n",
       "390                 FL      snaproutesports.com               Burk   \n",
       "845                 CA       passplaypalace.com            Nealson   \n",
       "978                 MO      endzoneemporium.com            Ardella   \n",
       "1412                IN  quarterbackquarters.com              Kerry   \n",
       "1996                LA   fieldforgefashions.com               Mair   \n",
       "...                ...                      ...                ...   \n",
       "1033385           None                     None               None   \n",
       "1033777           None                     None               None   \n",
       "1033795           None                     None               None   \n",
       "1033887           None                     None               None   \n",
       "1033972           None                     None               None   \n",
       "\n",
       "        employee_lastname             employee_email      employee_skill  \\\n",
       "390                 Hauch         ghonsch2q@bing.com                LLVM   \n",
       "845                 Cooch  mlongford1n@posterous.com  KPI Implementation   \n",
       "978                 Edler        aliesj@freewebs.com         Simulations   \n",
       "1412             Guynemer     mhansford5t@forbes.com                 CFD   \n",
       "1996           Blacklidge    gcoastq@dailymotion.com                 ABS   \n",
       "...                   ...                        ...                 ...   \n",
       "1033385              None                       None                None   \n",
       "1033777              None                       None                None   \n",
       "1033795              None                       None                None   \n",
       "1033887              None                       None                None   \n",
       "1033972              None                       None                None   \n",
       "\n",
       "                         employee_education               store_street  \\\n",
       "390             Virginia Military Institute                       None   \n",
       "845      Universidad Nacional de Entre Ríos                       None   \n",
       "978                        Yonok University                       None   \n",
       "1412             Universität des Saarlandes                       None   \n",
       "1996     European Carolus Magnus University                       None   \n",
       "...                                     ...                        ...   \n",
       "1033385                                None         46043 Golf Terrace   \n",
       "1033777                                None          7 Transport Court   \n",
       "1033795                                None    247 Mariners Cove Alley   \n",
       "1033887                                None  442 Charing Cross Terrace   \n",
       "1033972                                None           7 Evergreen Park   \n",
       "\n",
       "        store_state  store_type     store_city  \\\n",
       "390            None        None           None   \n",
       "845            None        None           None   \n",
       "978            None        None           None   \n",
       "1412           None        None           None   \n",
       "1996           None        None           None   \n",
       "...             ...         ...            ...   \n",
       "1033385          HI   megastore       Honolulu   \n",
       "1033777          FL  superstore     Clearwater   \n",
       "1033795          TX  superstore         Irving   \n",
       "1033887          CA   megastore  Mountain View   \n",
       "1033972          TX   megastore         Dallas   \n",
       "\n",
       "                               supplier sales_channel  \n",
       "390                                None        Online  \n",
       "845                                None        Online  \n",
       "978                                None        Online  \n",
       "1412                               None        Online  \n",
       "1996                               None        Online  \n",
       "...                                 ...           ...  \n",
       "1033385                    Forelle Inc.       Offline  \n",
       "1033777                  Grady and Sons       Offline  \n",
       "1033795                      VOIT Corp.       Offline  \n",
       "1033887  XTECH Protective Equipment LLC       Offline  \n",
       "1033972                     Haley Group       Offline  \n",
       "\n",
       "[3557 rows x 35 columns]"
      ]
     },
     "execution_count": 92,
     "metadata": {},
     "output_type": "execute_result"
    }
   ],
   "source": [
    "df_combined[df_combined['product']=='Eye Black Stickers']"
   ]
  },
  {
   "cell_type": "code",
   "execution_count": 93,
   "id": "b3dcec1c",
   "metadata": {},
   "outputs": [
    {
     "name": "stdout",
     "output_type": "stream",
     "text": [
      "Number of unique combinations: 574\n"
     ]
    }
   ],
   "source": [
    "unique_combinations = df_combined[['product', 'brand_name', 'product_category', 'product_subcategory']].drop_duplicates()\n",
    "\n",
    "print(f\"Number of unique combinations: {len(unique_combinations)}\")\n"
   ]
  },
  {
   "cell_type": "code",
   "execution_count": 94,
   "id": "a2e8d254",
   "metadata": {},
   "outputs": [
    {
     "name": "stdout",
     "output_type": "stream",
     "text": [
      "Number of unique combinations: 573\n"
     ]
    }
   ],
   "source": [
    "unique_combinations = df_combined[['product']].drop_duplicates()\n",
    "\n",
    "print(f\"Number of unique combinations: {len(unique_combinations)}\")"
   ]
  },
  {
   "cell_type": "code",
   "execution_count": 95,
   "id": "0fb8ac74",
   "metadata": {},
   "outputs": [
    {
     "name": "stdout",
     "output_type": "stream",
     "text": [
      "Number of unique combinations: 574\n"
     ]
    }
   ],
   "source": [
    "unique_combinations = df_combined[['product', 'brand_name']].drop_duplicates()\n",
    "\n",
    "print(f\"Number of unique combinations: {len(unique_combinations)}\")"
   ]
  },
  {
   "cell_type": "code",
   "execution_count": 96,
   "id": "38f65783",
   "metadata": {},
   "outputs": [
    {
     "name": "stdout",
     "output_type": "stream",
     "text": [
      "Number of unique combinations: 8\n"
     ]
    }
   ],
   "source": [
    "unique_combinations = df_combined[['product_category']].drop_duplicates()\n",
    "\n",
    "print(f\"Number of unique combinations: {len(unique_combinations)}\")"
   ]
  },
  {
   "cell_type": "code",
   "execution_count": 97,
   "id": "e9d45f5b",
   "metadata": {},
   "outputs": [
    {
     "name": "stdout",
     "output_type": "stream",
     "text": [
      "Number of unique combinations: 28\n"
     ]
    }
   ],
   "source": [
    "unique_combinations = df_combined[['product_subcategory']].drop_duplicates()\n",
    "\n",
    "print(f\"Number of unique combinations: {len(unique_combinations)}\")"
   ]
  }
 ],
 "metadata": {
  "kernelspec": {
   "display_name": "Python 3 (ipykernel)",
   "language": "python",
   "name": "python3"
  },
  "language_info": {
   "codemirror_mode": {
    "name": "ipython",
    "version": 3
   },
   "file_extension": ".py",
   "mimetype": "text/x-python",
   "name": "python",
   "nbconvert_exporter": "python",
   "pygments_lexer": "ipython3",
   "version": "3.11.7"
  }
 },
 "nbformat": 4,
 "nbformat_minor": 5
}
